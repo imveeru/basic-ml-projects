{
 "cells": [
  {
   "cell_type": "markdown",
   "id": "f7682008",
   "metadata": {},
   "source": [
    "# Car Dekho - Car price prediction\n",
    "using Regression with keras"
   ]
  },
  {
   "cell_type": "code",
   "execution_count": 39,
   "id": "efec6f39",
   "metadata": {},
   "outputs": [],
   "source": [
    "import numpy as np\n",
    "import pandas as pd\n",
    "import matplotlib.pyplot as plt\n",
    "import tensorflow\n",
    "import tensorflow.keras\n",
    "import seaborn as sns\n",
    "%matplotlib inline"
   ]
  },
  {
   "cell_type": "code",
   "execution_count": 40,
   "id": "e70877aa",
   "metadata": {},
   "outputs": [
    {
     "data": {
      "text/html": [
       "<div>\n",
       "<style scoped>\n",
       "    .dataframe tbody tr th:only-of-type {\n",
       "        vertical-align: middle;\n",
       "    }\n",
       "\n",
       "    .dataframe tbody tr th {\n",
       "        vertical-align: top;\n",
       "    }\n",
       "\n",
       "    .dataframe thead th {\n",
       "        text-align: right;\n",
       "    }\n",
       "</style>\n",
       "<table border=\"1\" class=\"dataframe\">\n",
       "  <thead>\n",
       "    <tr style=\"text-align: right;\">\n",
       "      <th></th>\n",
       "      <th>name</th>\n",
       "      <th>year</th>\n",
       "      <th>selling_price</th>\n",
       "      <th>km_driven</th>\n",
       "      <th>fuel</th>\n",
       "      <th>seller_type</th>\n",
       "      <th>transmission</th>\n",
       "      <th>owner</th>\n",
       "    </tr>\n",
       "  </thead>\n",
       "  <tbody>\n",
       "    <tr>\n",
       "      <th>0</th>\n",
       "      <td>Maruti 800 AC</td>\n",
       "      <td>2007</td>\n",
       "      <td>60000</td>\n",
       "      <td>70000</td>\n",
       "      <td>Petrol</td>\n",
       "      <td>Individual</td>\n",
       "      <td>Manual</td>\n",
       "      <td>First Owner</td>\n",
       "    </tr>\n",
       "    <tr>\n",
       "      <th>1</th>\n",
       "      <td>Maruti Wagon R LXI Minor</td>\n",
       "      <td>2007</td>\n",
       "      <td>135000</td>\n",
       "      <td>50000</td>\n",
       "      <td>Petrol</td>\n",
       "      <td>Individual</td>\n",
       "      <td>Manual</td>\n",
       "      <td>First Owner</td>\n",
       "    </tr>\n",
       "    <tr>\n",
       "      <th>2</th>\n",
       "      <td>Hyundai Verna 1.6 SX</td>\n",
       "      <td>2012</td>\n",
       "      <td>600000</td>\n",
       "      <td>100000</td>\n",
       "      <td>Diesel</td>\n",
       "      <td>Individual</td>\n",
       "      <td>Manual</td>\n",
       "      <td>First Owner</td>\n",
       "    </tr>\n",
       "    <tr>\n",
       "      <th>3</th>\n",
       "      <td>Datsun RediGO T Option</td>\n",
       "      <td>2017</td>\n",
       "      <td>250000</td>\n",
       "      <td>46000</td>\n",
       "      <td>Petrol</td>\n",
       "      <td>Individual</td>\n",
       "      <td>Manual</td>\n",
       "      <td>First Owner</td>\n",
       "    </tr>\n",
       "    <tr>\n",
       "      <th>4</th>\n",
       "      <td>Honda Amaze VX i-DTEC</td>\n",
       "      <td>2014</td>\n",
       "      <td>450000</td>\n",
       "      <td>141000</td>\n",
       "      <td>Diesel</td>\n",
       "      <td>Individual</td>\n",
       "      <td>Manual</td>\n",
       "      <td>Second Owner</td>\n",
       "    </tr>\n",
       "  </tbody>\n",
       "</table>\n",
       "</div>"
      ],
      "text/plain": [
       "                       name  year  selling_price  km_driven    fuel  \\\n",
       "0             Maruti 800 AC  2007          60000      70000  Petrol   \n",
       "1  Maruti Wagon R LXI Minor  2007         135000      50000  Petrol   \n",
       "2      Hyundai Verna 1.6 SX  2012         600000     100000  Diesel   \n",
       "3    Datsun RediGO T Option  2017         250000      46000  Petrol   \n",
       "4     Honda Amaze VX i-DTEC  2014         450000     141000  Diesel   \n",
       "\n",
       "  seller_type transmission         owner  \n",
       "0  Individual       Manual   First Owner  \n",
       "1  Individual       Manual   First Owner  \n",
       "2  Individual       Manual   First Owner  \n",
       "3  Individual       Manual   First Owner  \n",
       "4  Individual       Manual  Second Owner  "
      ]
     },
     "execution_count": 40,
     "metadata": {},
     "output_type": "execute_result"
    }
   ],
   "source": [
    "car_df=pd.read_csv('car.csv')\n",
    "car_df.head()"
   ]
  },
  {
   "cell_type": "code",
   "execution_count": 41,
   "id": "59e497d6",
   "metadata": {},
   "outputs": [
    {
     "data": {
      "text/plain": [
       "(4340, 8)"
      ]
     },
     "execution_count": 41,
     "metadata": {},
     "output_type": "execute_result"
    }
   ],
   "source": [
    "car_df.shape"
   ]
  },
  {
   "cell_type": "code",
   "execution_count": 42,
   "id": "430181cf",
   "metadata": {},
   "outputs": [
    {
     "data": {
      "text/plain": [
       "name             0\n",
       "year             0\n",
       "selling_price    0\n",
       "km_driven        0\n",
       "fuel             0\n",
       "seller_type      0\n",
       "transmission     0\n",
       "owner            0\n",
       "dtype: int64"
      ]
     },
     "execution_count": 42,
     "metadata": {},
     "output_type": "execute_result"
    }
   ],
   "source": [
    "car_df.isnull().sum()"
   ]
  },
  {
   "cell_type": "code",
   "execution_count": 43,
   "id": "d1ee143b",
   "metadata": {},
   "outputs": [
    {
     "data": {
      "text/html": [
       "<div>\n",
       "<style scoped>\n",
       "    .dataframe tbody tr th:only-of-type {\n",
       "        vertical-align: middle;\n",
       "    }\n",
       "\n",
       "    .dataframe tbody tr th {\n",
       "        vertical-align: top;\n",
       "    }\n",
       "\n",
       "    .dataframe thead th {\n",
       "        text-align: right;\n",
       "    }\n",
       "</style>\n",
       "<table border=\"1\" class=\"dataframe\">\n",
       "  <thead>\n",
       "    <tr style=\"text-align: right;\">\n",
       "      <th></th>\n",
       "      <th>count</th>\n",
       "      <th>mean</th>\n",
       "      <th>std</th>\n",
       "      <th>min</th>\n",
       "      <th>25%</th>\n",
       "      <th>50%</th>\n",
       "      <th>75%</th>\n",
       "      <th>max</th>\n",
       "    </tr>\n",
       "  </thead>\n",
       "  <tbody>\n",
       "    <tr>\n",
       "      <th>year</th>\n",
       "      <td>4340.0</td>\n",
       "      <td>2013.090783</td>\n",
       "      <td>4.215344</td>\n",
       "      <td>1992.0</td>\n",
       "      <td>2011.00</td>\n",
       "      <td>2014.0</td>\n",
       "      <td>2016.0</td>\n",
       "      <td>2020.0</td>\n",
       "    </tr>\n",
       "    <tr>\n",
       "      <th>selling_price</th>\n",
       "      <td>4340.0</td>\n",
       "      <td>504127.311751</td>\n",
       "      <td>578548.736139</td>\n",
       "      <td>20000.0</td>\n",
       "      <td>208749.75</td>\n",
       "      <td>350000.0</td>\n",
       "      <td>600000.0</td>\n",
       "      <td>8900000.0</td>\n",
       "    </tr>\n",
       "    <tr>\n",
       "      <th>km_driven</th>\n",
       "      <td>4340.0</td>\n",
       "      <td>66215.777419</td>\n",
       "      <td>46644.102194</td>\n",
       "      <td>1.0</td>\n",
       "      <td>35000.00</td>\n",
       "      <td>60000.0</td>\n",
       "      <td>90000.0</td>\n",
       "      <td>806599.0</td>\n",
       "    </tr>\n",
       "  </tbody>\n",
       "</table>\n",
       "</div>"
      ],
      "text/plain": [
       "                count           mean            std      min        25%  \\\n",
       "year           4340.0    2013.090783       4.215344   1992.0    2011.00   \n",
       "selling_price  4340.0  504127.311751  578548.736139  20000.0  208749.75   \n",
       "km_driven      4340.0   66215.777419   46644.102194      1.0   35000.00   \n",
       "\n",
       "                    50%       75%        max  \n",
       "year             2014.0    2016.0     2020.0  \n",
       "selling_price  350000.0  600000.0  8900000.0  \n",
       "km_driven       60000.0   90000.0   806599.0  "
      ]
     },
     "execution_count": 43,
     "metadata": {},
     "output_type": "execute_result"
    }
   ],
   "source": [
    "car_df.describe().transpose()"
   ]
  },
  {
   "cell_type": "code",
   "execution_count": 44,
   "id": "c26ebeca",
   "metadata": {},
   "outputs": [
    {
     "data": {
      "text/plain": [
       "<AxesSubplot:>"
      ]
     },
     "execution_count": 44,
     "metadata": {},
     "output_type": "execute_result"
    },
    {
     "data": {
      "image/png": "[encoded data removed]",
      "text/plain": [
       "<Figure size 432x288 with 2 Axes>"
      ]
     },
     "metadata": {
      "needs_background": "light"
     },
     "output_type": "display_data"
    }
   ],
   "source": [
    "sns.heatmap(car_df.corr(),annot=True)"
   ]
  },
  {
   "cell_type": "code",
   "execution_count": 46,
   "id": "d231aa87",
   "metadata": {},
   "outputs": [
    {
     "data": {
      "text/plain": [
       "name             1491\n",
       "year               27\n",
       "selling_price     445\n",
       "km_driven         770\n",
       "fuel                5\n",
       "seller_type         3\n",
       "transmission        2\n",
       "owner               5\n",
       "dtype: int64"
      ]
     },
     "execution_count": 46,
     "metadata": {},
     "output_type": "execute_result"
    }
   ],
   "source": [
    "car_df.nunique()"
   ]
  },
  {
   "cell_type": "code",
   "execution_count": 47,
   "id": "a07ec472",
   "metadata": {},
   "outputs": [
    {
     "data": {
      "text/plain": [
       "Diesel      2153\n",
       "Petrol      2123\n",
       "CNG           40\n",
       "LPG           23\n",
       "Electric       1\n",
       "Name: fuel, dtype: int64"
      ]
     },
     "execution_count": 47,
     "metadata": {},
     "output_type": "execute_result"
    }
   ],
   "source": [
    "car_df['fuel'].value_counts()"
   ]
  },
  {
   "cell_type": "code",
   "execution_count": 48,
   "id": "103f7deb",
   "metadata": {},
   "outputs": [
    {
     "data": {
      "text/plain": [
       "Individual          3244\n",
       "Dealer               994\n",
       "Trustmark Dealer     102\n",
       "Name: seller_type, dtype: int64"
      ]
     },
     "execution_count": 48,
     "metadata": {},
     "output_type": "execute_result"
    }
   ],
   "source": [
    "car_df['seller_type'].value_counts()"
   ]
  },
  {
   "cell_type": "code",
   "execution_count": 49,
   "id": "b875edb7",
   "metadata": {},
   "outputs": [
    {
     "data": {
      "text/plain": [
       "Manual       3892\n",
       "Automatic     448\n",
       "Name: transmission, dtype: int64"
      ]
     },
     "execution_count": 49,
     "metadata": {},
     "output_type": "execute_result"
    }
   ],
   "source": [
    "car_df['transmission'].value_counts()"
   ]
  },
  {
   "cell_type": "code",
   "execution_count": 50,
   "id": "d3848dda",
   "metadata": {},
   "outputs": [
    {
     "data": {
      "text/plain": [
       "First Owner             2832\n",
       "Second Owner            1106\n",
       "Third Owner              304\n",
       "Fourth & Above Owner      81\n",
       "Test Drive Car            17\n",
       "Name: owner, dtype: int64"
      ]
     },
     "execution_count": 50,
     "metadata": {},
     "output_type": "execute_result"
    }
   ],
   "source": [
    "car_df['owner'].value_counts()"
   ]
  },
  {
   "cell_type": "code",
   "execution_count": 51,
   "id": "e6f261fd",
   "metadata": {},
   "outputs": [
    {
     "data": {
      "text/plain": [
       "<seaborn.axisgrid.PairGrid at 0x2022af87a90>"
      ]
     },
     "execution_count": 51,
     "metadata": {},
     "output_type": "execute_result"
    },
    {
     "data": {
      "image/png": "[encoded data removed]",
      "text/plain": [
       "<Figure size 540x540 with 12 Axes>"
      ]
     },
     "metadata": {
      "needs_background": "light"
     },
     "output_type": "display_data"
    }
   ],
   "source": [
    "sns.pairplot(data=car_df)"
   ]
  },
  {
   "cell_type": "markdown",
   "id": "9072a000",
   "metadata": {},
   "source": [
    "## Data Preprocessing"
   ]
  },
  {
   "cell_type": "code",
   "execution_count": 52,
   "id": "58ca4e55",
   "metadata": {},
   "outputs": [],
   "source": [
    "from sklearn.preprocessing import LabelEncoder\n",
    "label_encoder=LabelEncoder()"
   ]
  },
  {
   "cell_type": "code",
   "execution_count": 53,
   "id": "9cb0a096",
   "metadata": {},
   "outputs": [
    {
     "data": {
      "text/html": [
       "<div>\n",
       "<style scoped>\n",
       "    .dataframe tbody tr th:only-of-type {\n",
       "        vertical-align: middle;\n",
       "    }\n",
       "\n",
       "    .dataframe tbody tr th {\n",
       "        vertical-align: top;\n",
       "    }\n",
       "\n",
       "    .dataframe thead th {\n",
       "        text-align: right;\n",
       "    }\n",
       "</style>\n",
       "<table border=\"1\" class=\"dataframe\">\n",
       "  <thead>\n",
       "    <tr style=\"text-align: right;\">\n",
       "      <th></th>\n",
       "      <th>name</th>\n",
       "      <th>year</th>\n",
       "      <th>selling_price</th>\n",
       "      <th>km_driven</th>\n",
       "      <th>fuel</th>\n",
       "      <th>seller_type</th>\n",
       "      <th>transmission</th>\n",
       "      <th>owner</th>\n",
       "    </tr>\n",
       "  </thead>\n",
       "  <tbody>\n",
       "    <tr>\n",
       "      <th>0</th>\n",
       "      <td>Maruti 800 AC</td>\n",
       "      <td>2007</td>\n",
       "      <td>60000</td>\n",
       "      <td>70000</td>\n",
       "      <td>4</td>\n",
       "      <td>1</td>\n",
       "      <td>1</td>\n",
       "      <td>0</td>\n",
       "    </tr>\n",
       "    <tr>\n",
       "      <th>1</th>\n",
       "      <td>Maruti Wagon R LXI Minor</td>\n",
       "      <td>2007</td>\n",
       "      <td>135000</td>\n",
       "      <td>50000</td>\n",
       "      <td>4</td>\n",
       "      <td>1</td>\n",
       "      <td>1</td>\n",
       "      <td>0</td>\n",
       "    </tr>\n",
       "    <tr>\n",
       "      <th>2</th>\n",
       "      <td>Hyundai Verna 1.6 SX</td>\n",
       "      <td>2012</td>\n",
       "      <td>600000</td>\n",
       "      <td>100000</td>\n",
       "      <td>1</td>\n",
       "      <td>1</td>\n",
       "      <td>1</td>\n",
       "      <td>0</td>\n",
       "    </tr>\n",
       "    <tr>\n",
       "      <th>3</th>\n",
       "      <td>Datsun RediGO T Option</td>\n",
       "      <td>2017</td>\n",
       "      <td>250000</td>\n",
       "      <td>46000</td>\n",
       "      <td>4</td>\n",
       "      <td>1</td>\n",
       "      <td>1</td>\n",
       "      <td>0</td>\n",
       "    </tr>\n",
       "    <tr>\n",
       "      <th>4</th>\n",
       "      <td>Honda Amaze VX i-DTEC</td>\n",
       "      <td>2014</td>\n",
       "      <td>450000</td>\n",
       "      <td>141000</td>\n",
       "      <td>1</td>\n",
       "      <td>1</td>\n",
       "      <td>1</td>\n",
       "      <td>2</td>\n",
       "    </tr>\n",
       "  </tbody>\n",
       "</table>\n",
       "</div>"
      ],
      "text/plain": [
       "                       name  year  selling_price  km_driven  fuel  \\\n",
       "0             Maruti 800 AC  2007          60000      70000     4   \n",
       "1  Maruti Wagon R LXI Minor  2007         135000      50000     4   \n",
       "2      Hyundai Verna 1.6 SX  2012         600000     100000     1   \n",
       "3    Datsun RediGO T Option  2017         250000      46000     4   \n",
       "4     Honda Amaze VX i-DTEC  2014         450000     141000     1   \n",
       "\n",
       "   seller_type  transmission  owner  \n",
       "0            1             1      0  \n",
       "1            1             1      0  \n",
       "2            1             1      0  \n",
       "3            1             1      0  \n",
       "4            1             1      2  "
      ]
     },
     "execution_count": 53,
     "metadata": {},
     "output_type": "execute_result"
    }
   ],
   "source": [
    "car_df['fuel']=label_encoder.fit_transform(car_df['fuel'])\n",
    "car_df['seller_type']=label_encoder.fit_transform(car_df['seller_type'])\n",
    "car_df['transmission']=label_encoder.fit_transform(car_df['transmission'])\n",
    "car_df['owner']=label_encoder.fit_transform(car_df['owner'])\n",
    "car_df.head()"
   ]
  },
  {
   "cell_type": "code",
   "execution_count": 54,
   "id": "43358562",
   "metadata": {},
   "outputs": [
    {
     "data": {
      "text/html": [
       "<div>\n",
       "<style scoped>\n",
       "    .dataframe tbody tr th:only-of-type {\n",
       "        vertical-align: middle;\n",
       "    }\n",
       "\n",
       "    .dataframe tbody tr th {\n",
       "        vertical-align: top;\n",
       "    }\n",
       "\n",
       "    .dataframe thead th {\n",
       "        text-align: right;\n",
       "    }\n",
       "</style>\n",
       "<table border=\"1\" class=\"dataframe\">\n",
       "  <thead>\n",
       "    <tr style=\"text-align: right;\">\n",
       "      <th></th>\n",
       "      <th>year</th>\n",
       "      <th>selling_price</th>\n",
       "      <th>km_driven</th>\n",
       "      <th>fuel</th>\n",
       "      <th>seller_type</th>\n",
       "      <th>transmission</th>\n",
       "      <th>owner</th>\n",
       "    </tr>\n",
       "  </thead>\n",
       "  <tbody>\n",
       "    <tr>\n",
       "      <th>0</th>\n",
       "      <td>2007</td>\n",
       "      <td>60000</td>\n",
       "      <td>70000</td>\n",
       "      <td>4</td>\n",
       "      <td>1</td>\n",
       "      <td>1</td>\n",
       "      <td>0</td>\n",
       "    </tr>\n",
       "    <tr>\n",
       "      <th>1</th>\n",
       "      <td>2007</td>\n",
       "      <td>135000</td>\n",
       "      <td>50000</td>\n",
       "      <td>4</td>\n",
       "      <td>1</td>\n",
       "      <td>1</td>\n",
       "      <td>0</td>\n",
       "    </tr>\n",
       "    <tr>\n",
       "      <th>2</th>\n",
       "      <td>2012</td>\n",
       "      <td>600000</td>\n",
       "      <td>100000</td>\n",
       "      <td>1</td>\n",
       "      <td>1</td>\n",
       "      <td>1</td>\n",
       "      <td>0</td>\n",
       "    </tr>\n",
       "    <tr>\n",
       "      <th>3</th>\n",
       "      <td>2017</td>\n",
       "      <td>250000</td>\n",
       "      <td>46000</td>\n",
       "      <td>4</td>\n",
       "      <td>1</td>\n",
       "      <td>1</td>\n",
       "      <td>0</td>\n",
       "    </tr>\n",
       "    <tr>\n",
       "      <th>4</th>\n",
       "      <td>2014</td>\n",
       "      <td>450000</td>\n",
       "      <td>141000</td>\n",
       "      <td>1</td>\n",
       "      <td>1</td>\n",
       "      <td>1</td>\n",
       "      <td>2</td>\n",
       "    </tr>\n",
       "  </tbody>\n",
       "</table>\n",
       "</div>"
      ],
      "text/plain": [
       "   year  selling_price  km_driven  fuel  seller_type  transmission  owner\n",
       "0  2007          60000      70000     4            1             1      0\n",
       "1  2007         135000      50000     4            1             1      0\n",
       "2  2012         600000     100000     1            1             1      0\n",
       "3  2017         250000      46000     4            1             1      0\n",
       "4  2014         450000     141000     1            1             1      2"
      ]
     },
     "execution_count": 54,
     "metadata": {},
     "output_type": "execute_result"
    }
   ],
   "source": [
    "car = car_df.drop(['name'],axis=1)\n",
    "car.head()"
   ]
  },
  {
   "cell_type": "code",
   "execution_count": 55,
   "id": "b8d2ce58",
   "metadata": {},
   "outputs": [
    {
     "data": {
      "text/plain": [
       "Index(['year', 'selling_price', 'km_driven', 'fuel', 'seller_type',\n",
       "       'transmission', 'owner'],\n",
       "      dtype='object')"
      ]
     },
     "execution_count": 55,
     "metadata": {},
     "output_type": "execute_result"
    }
   ],
   "source": [
    "car.columns"
   ]
  },
  {
   "cell_type": "markdown",
   "id": "b1a432e0",
   "metadata": {},
   "source": [
    "## Predictor, Target split"
   ]
  },
  {
   "cell_type": "code",
   "execution_count": 57,
   "id": "9a5409b1",
   "metadata": {},
   "outputs": [
    {
     "name": "stdout",
     "output_type": "stream",
     "text": [
      "X :\n",
      "    year  km_driven  fuel  seller_type  transmission  owner\n",
      "0  2007      70000     4            1             1      0\n",
      "1  2007      50000     4            1             1      0\n",
      "2  2012     100000     1            1             1      0\n",
      "3  2017      46000     4            1             1      0\n",
      "4  2014     141000     1            1             1      2\n",
      "y: \n",
      " 0     60000\n",
      "1    135000\n",
      "2    600000\n",
      "3    250000\n",
      "4    450000\n",
      "Name: selling_price, dtype: int64\n"
     ]
    }
   ],
   "source": [
    "X=car[['year', 'km_driven', 'fuel', 'seller_type','transmission', 'owner']]\n",
    "y=car['selling_price']\n",
    "print('X :\\n',X.head())\n",
    "print('y: \\n',y.head())"
   ]
  },
  {
   "cell_type": "markdown",
   "id": "d5c11981",
   "metadata": {},
   "source": [
    "## Data Normalization"
   ]
  },
  {
   "cell_type": "code",
   "execution_count": 18,
   "id": "d4fb9cb8",
   "metadata": {},
   "outputs": [],
   "source": [
    "from sklearn.preprocessing import StandardScaler"
   ]
  },
  {
   "cell_type": "code",
   "execution_count": 19,
   "id": "7e94f585",
   "metadata": {},
   "outputs": [
    {
     "data": {
      "text/plain": [
       "array([[-1.44507431,  0.08113906,  1.01499338,  0.44819164,  0.33927557,\n",
       "        -0.66507931],\n",
       "       [-1.44507431, -0.3476891 ,  1.01499338,  0.44819164,  0.33927557,\n",
       "        -0.66507931],\n",
       "       [-0.2587948 ,  0.7243813 , -0.97405145,  0.44819164,  0.33927557,\n",
       "        -0.66507931],\n",
       "       [ 0.92748471, -0.43345473,  1.01499338,  0.44819164,  0.33927557,\n",
       "        -0.66507931]])"
      ]
     },
     "execution_count": 19,
     "metadata": {},
     "output_type": "execute_result"
    }
   ],
   "source": [
    "X=StandardScaler().fit(X).transform(X.astype(float))\n",
    "X[0:4]"
   ]
  },
  {
   "cell_type": "markdown",
   "id": "8ccfbc5d",
   "metadata": {},
   "source": [
    "## Train Test Split"
   ]
  },
  {
   "cell_type": "code",
   "execution_count": 58,
   "id": "1d09b4f4",
   "metadata": {},
   "outputs": [],
   "source": [
    "from sklearn.model_selection import train_test_split"
   ]
  },
  {
   "cell_type": "code",
   "execution_count": 59,
   "id": "88b96343",
   "metadata": {},
   "outputs": [
    {
     "name": "stdout",
     "output_type": "stream",
     "text": [
      "Train Set: ((3472, 6), (3472,))\n",
      " Test Set: ((868, 6), (868,))\n"
     ]
    }
   ],
   "source": [
    "X_train,X_test,y_train,y_test=train_test_split(X,y,test_size=0.2,random_state=42)\n",
    "print(f'Train Set: {X_train.shape,y_train.shape}')\n",
    "print(f' Test Set: {X_test.shape,y_test.shape}')"
   ]
  },
  {
   "cell_type": "markdown",
   "id": "9023e615",
   "metadata": {},
   "source": [
    "## Modelling"
   ]
  },
  {
   "cell_type": "code",
   "execution_count": 60,
   "id": "a39dd04c",
   "metadata": {},
   "outputs": [],
   "source": [
    "from tensorflow.keras.models import Sequential\n",
    "from tensorflow.keras.layers import Dense\n",
    "from tensorflow.keras.utils import to_categorical\n",
    "from tensorflow.keras.callbacks import EarlyStopping"
   ]
  },
  {
   "cell_type": "code",
   "execution_count": 61,
   "id": "4a7a1213",
   "metadata": {},
   "outputs": [],
   "source": [
    "early_stop = EarlyStopping(monitor='val_loss', mode='min', verbose=1, patience=25)"
   ]
  },
  {
   "cell_type": "code",
   "execution_count": 62,
   "id": "23477bae",
   "metadata": {},
   "outputs": [
    {
     "data": {
      "text/plain": [
       "6"
      ]
     },
     "execution_count": 62,
     "metadata": {},
     "output_type": "execute_result"
    }
   ],
   "source": [
    "n_cols=X.shape[1]\n",
    "n_cols"
   ]
  },
  {
   "cell_type": "code",
   "execution_count": 63,
   "id": "86052bd0",
   "metadata": {},
   "outputs": [],
   "source": [
    "def regression_model():\n",
    "    model=Sequential()\n",
    "    model.add(Dense(12,activation='relu',input_shape=(n_cols,)))\n",
    "    model.add(Dense(6,activation='relu'))\n",
    "    model.add(Dense(1))\n",
    "    model.compile(optimizer='adam',loss='mean_squared_logarithmic_error',metrics=['accuracy'])\n",
    "    return model"
   ]
  },
  {
   "cell_type": "code",
   "execution_count": 64,
   "id": "45f08c2f",
   "metadata": {
    "scrolled": false
   },
   "outputs": [
    {
     "name": "stdout",
     "output_type": "stream",
     "text": [
      "Epoch 1/500\n",
      "109/109 [==============================] - 2s 6ms/step - loss: 162.8554 - accuracy: 0.0000e+00 - val_loss: 160.9837 - val_accuracy: 0.0000e+00\n",
      "Epoch 2/500\n",
      "109/109 [==============================] - 0s 3ms/step - loss: 160.0363 - accuracy: 0.0000e+00 - val_loss: 158.4712 - val_accuracy: 0.0000e+00\n",
      "Epoch 3/500\n",
      "109/109 [==============================] - 0s 3ms/step - loss: 157.7756 - accuracy: 0.0000e+00 - val_loss: 156.4100 - val_accuracy: 0.0000e+00\n",
      "Epoch 4/500\n",
      "109/109 [==============================] - 0s 3ms/step - loss: 155.1981 - accuracy: 0.0000e+00 - val_loss: 149.3378 - val_accuracy: 0.0000e+00\n",
      "Epoch 5/500\n",
      "109/109 [==============================] - 0s 3ms/step - loss: 25.3718 - accuracy: 0.0000e+00 - val_loss: 13.6902 - val_accuracy: 0.0000e+00\n",
      "Epoch 6/500\n",
      "109/109 [==============================] - 0s 3ms/step - loss: 11.8737 - accuracy: 0.0000e+00 - val_loss: 10.1625 - val_accuracy: 0.0000e+00\n",
      "Epoch 7/500\n",
      "109/109 [==============================] - 0s 4ms/step - loss: 9.3797 - accuracy: 0.0000e+00 - val_loss: 8.3793 - val_accuracy: 0.0000e+00\n",
      "Epoch 8/500\n",
      "109/109 [==============================] - 0s 3ms/step - loss: 7.9194 - accuracy: 0.0000e+00 - val_loss: 7.2070 - val_accuracy: 0.0000e+00\n",
      "Epoch 9/500\n",
      "109/109 [==============================] - 0s 3ms/step - loss: 6.9029 - accuracy: 0.0000e+00 - val_loss: 6.3451 - val_accuracy: 0.0000e+00\n",
      "Epoch 10/500\n",
      "109/109 [==============================] - 0s 3ms/step - loss: 6.1339 - accuracy: 0.0000e+00 - val_loss: 5.6793 - val_accuracy: 0.0000e+00\n",
      "Epoch 11/500\n",
      "109/109 [==============================] - 0s 3ms/step - loss: 5.5249 - accuracy: 0.0000e+00 - val_loss: 5.1403 - val_accuracy: 0.0000e+00\n",
      "Epoch 12/500\n",
      "109/109 [==============================] - 0s 3ms/step - loss: 5.0266 - accuracy: 0.0000e+00 - val_loss: 4.6972 - val_accuracy: 0.0000e+00\n",
      "Epoch 13/500\n",
      "109/109 [==============================] - 0s 3ms/step - loss: 4.6104 - accuracy: 0.0000e+00 - val_loss: 4.3214 - val_accuracy: 0.0000e+00\n",
      "Epoch 14/500\n",
      "109/109 [==============================] - 0s 3ms/step - loss: 4.2566 - accuracy: 0.0000e+00 - val_loss: 4.0023 - val_accuracy: 0.0000e+00\n",
      "Epoch 15/500\n",
      "109/109 [==============================] - 0s 3ms/step - loss: 3.9521 - accuracy: 0.0000e+00 - val_loss: 3.7238 - val_accuracy: 0.0000e+00\n",
      "Epoch 16/500\n",
      "109/109 [==============================] - 0s 3ms/step - loss: 3.6880 - accuracy: 0.0000e+00 - val_loss: 3.4847 - val_accuracy: 0.0000e+00\n",
      "Epoch 17/500\n",
      "109/109 [==============================] - 0s 3ms/step - loss: 3.4575 - accuracy: 0.0000e+00 - val_loss: 3.2734 - val_accuracy: 0.0000e+00\n",
      "Epoch 18/500\n",
      "109/109 [==============================] - 0s 3ms/step - loss: 3.2546 - accuracy: 0.0000e+00 - val_loss: 3.0891 - val_accuracy: 0.0000e+00\n",
      "Epoch 19/500\n",
      "109/109 [==============================] - 0s 3ms/step - loss: 3.0756 - accuracy: 0.0000e+00 - val_loss: 2.9255 - val_accuracy: 0.0000e+00\n",
      "Epoch 20/500\n",
      "109/109 [==============================] - 0s 3ms/step - loss: 2.9168 - accuracy: 0.0000e+00 - val_loss: 2.7797 - val_accuracy: 0.0000e+00\n",
      "Epoch 21/500\n",
      "109/109 [==============================] - 0s 4ms/step - loss: 2.7754 - accuracy: 0.0000e+00 - val_loss: 2.6511 - val_accuracy: 0.0000e+00\n",
      "Epoch 22/500\n",
      "109/109 [==============================] - 0s 3ms/step - loss: 2.6489 - accuracy: 0.0000e+00 - val_loss: 2.5341 - val_accuracy: 0.0000e+00\n",
      "Epoch 23/500\n",
      "109/109 [==============================] - 0s 2ms/step - loss: 2.5342 - accuracy: 0.0000e+00 - val_loss: 2.4283 - val_accuracy: 0.0000e+00\n",
      "Epoch 24/500\n",
      "109/109 [==============================] - 0s 3ms/step - loss: 2.4231 - accuracy: 0.0000e+00 - val_loss: 2.2878 - val_accuracy: 0.0000e+00\n",
      "Epoch 25/500\n",
      "109/109 [==============================] - 0s 3ms/step - loss: 2.1672 - accuracy: 0.0000e+00 - val_loss: 1.9983 - val_accuracy: 0.0000e+00\n",
      "Epoch 26/500\n",
      "109/109 [==============================] - 0s 3ms/step - loss: 1.9410 - accuracy: 0.0000e+00 - val_loss: 1.8466 - val_accuracy: 0.0000e+00\n",
      "Epoch 27/500\n",
      "109/109 [==============================] - 0s 3ms/step - loss: 1.8266 - accuracy: 0.0000e+00 - val_loss: 1.7766 - val_accuracy: 0.0000e+00\n",
      "Epoch 28/500\n",
      "109/109 [==============================] - 0s 3ms/step - loss: 1.7705 - accuracy: 0.0000e+00 - val_loss: 1.7426 - val_accuracy: 0.0000e+00\n",
      "Epoch 29/500\n",
      "109/109 [==============================] - 0s 3ms/step - loss: 1.7425 - accuracy: 0.0000e+00 - val_loss: 1.7260 - val_accuracy: 0.0000e+00\n",
      "Epoch 30/500\n",
      "109/109 [==============================] - 0s 3ms/step - loss: 1.7265 - accuracy: 0.0000e+00 - val_loss: 1.7166 - val_accuracy: 0.0000e+00\n",
      "Epoch 31/500\n",
      "109/109 [==============================] - 0s 3ms/step - loss: 1.7165 - accuracy: 0.0000e+00 - val_loss: 1.7097 - val_accuracy: 0.0000e+00\n",
      "Epoch 32/500\n",
      "109/109 [==============================] - 0s 3ms/step - loss: 1.7086 - accuracy: 0.0000e+00 - val_loss: 1.7038 - val_accuracy: 0.0000e+00\n",
      "Epoch 33/500\n",
      "109/109 [==============================] - 0s 3ms/step - loss: 1.7019 - accuracy: 0.0000e+00 - val_loss: 1.6978 - val_accuracy: 0.0000e+00\n",
      "Epoch 34/500\n",
      "109/109 [==============================] - 0s 3ms/step - loss: 1.6952 - accuracy: 0.0000e+00 - val_loss: 1.6918 - val_accuracy: 0.0000e+00\n",
      "Epoch 35/500\n",
      "109/109 [==============================] - 0s 3ms/step - loss: 1.6884 - accuracy: 0.0000e+00 - val_loss: 1.6855 - val_accuracy: 0.0000e+00\n",
      "Epoch 36/500\n",
      "109/109 [==============================] - 0s 3ms/step - loss: 1.6815 - accuracy: 0.0000e+00 - val_loss: 1.6786 - val_accuracy: 0.0000e+00\n",
      "Epoch 37/500\n",
      "109/109 [==============================] - 0s 3ms/step - loss: 1.6741 - accuracy: 0.0000e+00 - val_loss: 1.6716 - val_accuracy: 0.0000e+00\n",
      "Epoch 38/500\n",
      "109/109 [==============================] - 0s 3ms/step - loss: 1.6663 - accuracy: 0.0000e+00 - val_loss: 1.6635 - val_accuracy: 0.0000e+00\n",
      "Epoch 39/500\n",
      "109/109 [==============================] - 0s 3ms/step - loss: 1.6581 - accuracy: 0.0000e+00 - val_loss: 1.6555 - val_accuracy: 0.0000e+00\n",
      "Epoch 40/500\n",
      "109/109 [==============================] - 0s 3ms/step - loss: 1.6498 - accuracy: 0.0000e+00 - val_loss: 1.6471 - val_accuracy: 0.0000e+00\n",
      "Epoch 41/500\n",
      "109/109 [==============================] - 0s 3ms/step - loss: 1.6406 - accuracy: 0.0000e+00 - val_loss: 1.6375 - val_accuracy: 0.0000e+00\n",
      "Epoch 42/500\n",
      "109/109 [==============================] - 0s 3ms/step - loss: 1.6313 - accuracy: 0.0000e+00 - val_loss: 1.6280 - val_accuracy: 0.0000e+00\n",
      "Epoch 43/500\n",
      "109/109 [==============================] - 0s 3ms/step - loss: 1.6211 - accuracy: 0.0000e+00 - val_loss: 1.6180 - val_accuracy: 0.0000e+00\n",
      "Epoch 44/500\n",
      "109/109 [==============================] - 0s 3ms/step - loss: 1.6106 - accuracy: 0.0000e+00 - val_loss: 1.6074 - val_accuracy: 0.0000e+00\n",
      "Epoch 45/500\n",
      "109/109 [==============================] - 0s 3ms/step - loss: 1.5997 - accuracy: 0.0000e+00 - val_loss: 1.5962 - val_accuracy: 0.0000e+00\n",
      "Epoch 46/500\n",
      "109/109 [==============================] - 0s 3ms/step - loss: 1.5879 - accuracy: 0.0000e+00 - val_loss: 1.5838 - val_accuracy: 0.0000e+00\n",
      "Epoch 47/500\n",
      "109/109 [==============================] - 0s 3ms/step - loss: 1.5757 - accuracy: 0.0000e+00 - val_loss: 1.5715 - val_accuracy: 0.0000e+00\n",
      "Epoch 48/500\n",
      "109/109 [==============================] - 0s 3ms/step - loss: 1.5626 - accuracy: 0.0000e+00 - val_loss: 1.5580 - val_accuracy: 0.0000e+00\n",
      "Epoch 49/500\n",
      "109/109 [==============================] - 0s 3ms/step - loss: 1.5489 - accuracy: 0.0000e+00 - val_loss: 1.5439 - val_accuracy: 0.0000e+00\n",
      "Epoch 50/500\n",
      "109/109 [==============================] - 0s 3ms/step - loss: 1.5346 - accuracy: 0.0000e+00 - val_loss: 1.5289 - val_accuracy: 0.0000e+00\n",
      "Epoch 51/500\n",
      "109/109 [==============================] - 0s 3ms/step - loss: 1.5193 - accuracy: 0.0000e+00 - val_loss: 1.5135 - val_accuracy: 0.0000e+00\n",
      "Epoch 52/500\n",
      "109/109 [==============================] - 0s 3ms/step - loss: 1.5034 - accuracy: 0.0000e+00 - val_loss: 1.4966 - val_accuracy: 0.0000e+00\n",
      "Epoch 53/500\n",
      "109/109 [==============================] - 0s 3ms/step - loss: 1.4865 - accuracy: 0.0000e+00 - val_loss: 1.4791 - val_accuracy: 0.0000e+00\n",
      "Epoch 54/500\n",
      "109/109 [==============================] - 0s 3ms/step - loss: 1.4689 - accuracy: 0.0000e+00 - val_loss: 1.4603 - val_accuracy: 0.0000e+00\n"
     ]
    },
    {
     "name": "stdout",
     "output_type": "stream",
     "text": [
      "Epoch 55/500\n",
      "109/109 [==============================] - 0s 3ms/step - loss: 1.4503 - accuracy: 0.0000e+00 - val_loss: 1.4410 - val_accuracy: 0.0000e+00\n",
      "Epoch 56/500\n",
      "109/109 [==============================] - 0s 3ms/step - loss: 1.4310 - accuracy: 0.0000e+00 - val_loss: 1.4209 - val_accuracy: 0.0000e+00\n",
      "Epoch 57/500\n",
      "109/109 [==============================] - 0s 3ms/step - loss: 1.4105 - accuracy: 0.0000e+00 - val_loss: 1.3997 - val_accuracy: 0.0000e+00\n",
      "Epoch 58/500\n",
      "109/109 [==============================] - 0s 3ms/step - loss: 1.3897 - accuracy: 0.0000e+00 - val_loss: 1.3773 - val_accuracy: 0.0000e+00\n",
      "Epoch 59/500\n",
      "109/109 [==============================] - 0s 3ms/step - loss: 1.3674 - accuracy: 0.0000e+00 - val_loss: 1.3546 - val_accuracy: 0.0000e+00\n",
      "Epoch 60/500\n",
      "109/109 [==============================] - 0s 2ms/step - loss: 1.3443 - accuracy: 0.0000e+00 - val_loss: 1.3308 - val_accuracy: 0.0000e+00\n",
      "Epoch 61/500\n",
      "109/109 [==============================] - 0s 2ms/step - loss: 1.3200 - accuracy: 0.0000e+00 - val_loss: 1.3047 - val_accuracy: 0.0000e+00\n",
      "Epoch 62/500\n",
      "109/109 [==============================] - 0s 3ms/step - loss: 1.2949 - accuracy: 0.0000e+00 - val_loss: 1.2783 - val_accuracy: 0.0000e+00\n",
      "Epoch 63/500\n",
      "109/109 [==============================] - 0s 3ms/step - loss: 1.2691 - accuracy: 0.0000e+00 - val_loss: 1.2512 - val_accuracy: 0.0000e+00\n",
      "Epoch 64/500\n",
      "109/109 [==============================] - 0s 3ms/step - loss: 1.2423 - accuracy: 0.0000e+00 - val_loss: 1.2241 - val_accuracy: 0.0000e+00\n",
      "Epoch 65/500\n",
      "109/109 [==============================] - 0s 3ms/step - loss: 1.2149 - accuracy: 0.0000e+00 - val_loss: 1.1946 - val_accuracy: 0.0000e+00\n",
      "Epoch 66/500\n",
      "109/109 [==============================] - 0s 3ms/step - loss: 1.1871 - accuracy: 0.0000e+00 - val_loss: 1.1668 - val_accuracy: 0.0000e+00\n",
      "Epoch 67/500\n",
      "109/109 [==============================] - 0s 3ms/step - loss: 1.1608 - accuracy: 0.0000e+00 - val_loss: 1.1412 - val_accuracy: 0.0000e+00\n",
      "Epoch 68/500\n",
      "109/109 [==============================] - 0s 3ms/step - loss: 1.1349 - accuracy: 0.0000e+00 - val_loss: 1.1162 - val_accuracy: 0.0000e+00\n",
      "Epoch 69/500\n",
      "109/109 [==============================] - 0s 3ms/step - loss: 1.1107 - accuracy: 0.0000e+00 - val_loss: 1.0920 - val_accuracy: 0.0000e+00\n",
      "Epoch 70/500\n",
      "109/109 [==============================] - 0s 3ms/step - loss: 1.0867 - accuracy: 0.0000e+00 - val_loss: 1.0678 - val_accuracy: 0.0000e+00\n",
      "Epoch 71/500\n",
      "109/109 [==============================] - 0s 2ms/step - loss: 1.0625 - accuracy: 0.0000e+00 - val_loss: 1.0435 - val_accuracy: 0.0000e+00\n",
      "Epoch 72/500\n",
      "109/109 [==============================] - 0s 3ms/step - loss: 1.0389 - accuracy: 0.0000e+00 - val_loss: 1.0207 - val_accuracy: 0.0000e+00\n",
      "Epoch 73/500\n",
      "109/109 [==============================] - 0s 3ms/step - loss: 1.0158 - accuracy: 0.0000e+00 - val_loss: 0.9952 - val_accuracy: 0.0000e+00\n",
      "Epoch 74/500\n",
      "109/109 [==============================] - 0s 3ms/step - loss: 0.9920 - accuracy: 0.0000e+00 - val_loss: 0.9713 - val_accuracy: 0.0000e+00\n",
      "Epoch 75/500\n",
      "109/109 [==============================] - 0s 3ms/step - loss: 0.9688 - accuracy: 0.0000e+00 - val_loss: 0.9471 - val_accuracy: 0.0000e+00\n",
      "Epoch 76/500\n",
      "109/109 [==============================] - 0s 2ms/step - loss: 0.9454 - accuracy: 0.0000e+00 - val_loss: 0.9249 - val_accuracy: 0.0000e+00\n",
      "Epoch 77/500\n",
      "109/109 [==============================] - 0s 3ms/step - loss: 0.9228 - accuracy: 0.0000e+00 - val_loss: 0.9001 - val_accuracy: 0.0000e+00\n",
      "Epoch 78/500\n",
      "109/109 [==============================] - 0s 3ms/step - loss: 0.9002 - accuracy: 0.0000e+00 - val_loss: 0.8760 - val_accuracy: 0.0000e+00\n",
      "Epoch 79/500\n",
      "109/109 [==============================] - 0s 3ms/step - loss: 0.8784 - accuracy: 0.0000e+00 - val_loss: 0.8540 - val_accuracy: 0.0000e+00\n",
      "Epoch 80/500\n",
      "109/109 [==============================] - 0s 3ms/step - loss: 0.8566 - accuracy: 0.0000e+00 - val_loss: 0.8324 - val_accuracy: 0.0000e+00\n",
      "Epoch 81/500\n",
      "109/109 [==============================] - 0s 3ms/step - loss: 0.8360 - accuracy: 0.0000e+00 - val_loss: 0.8104 - val_accuracy: 0.0000e+00\n",
      "Epoch 82/500\n",
      "109/109 [==============================] - 0s 3ms/step - loss: 0.8166 - accuracy: 0.0000e+00 - val_loss: 0.7901 - val_accuracy: 0.0000e+00\n",
      "Epoch 83/500\n",
      "109/109 [==============================] - 0s 3ms/step - loss: 0.7975 - accuracy: 0.0000e+00 - val_loss: 0.7712 - val_accuracy: 0.0000e+00\n",
      "Epoch 84/500\n",
      "109/109 [==============================] - 0s 3ms/step - loss: 0.7807 - accuracy: 0.0000e+00 - val_loss: 0.7535 - val_accuracy: 0.0000e+00\n",
      "Epoch 85/500\n",
      "109/109 [==============================] - 0s 3ms/step - loss: 0.7639 - accuracy: 0.0000e+00 - val_loss: 0.7375 - val_accuracy: 0.0000e+00\n",
      "Epoch 86/500\n",
      "109/109 [==============================] - 0s 3ms/step - loss: 0.7486 - accuracy: 0.0000e+00 - val_loss: 0.7223 - val_accuracy: 0.0000e+00\n",
      "Epoch 87/500\n",
      "109/109 [==============================] - 0s 3ms/step - loss: 0.7352 - accuracy: 0.0000e+00 - val_loss: 0.7092 - val_accuracy: 0.0000e+00\n",
      "Epoch 88/500\n",
      "109/109 [==============================] - 0s 3ms/step - loss: 0.7231 - accuracy: 0.0000e+00 - val_loss: 0.6963 - val_accuracy: 0.0000e+00\n",
      "Epoch 89/500\n",
      "109/109 [==============================] - 0s 3ms/step - loss: 0.7107 - accuracy: 0.0000e+00 - val_loss: 0.6878 - val_accuracy: 0.0000e+00\n",
      "Epoch 90/500\n",
      "109/109 [==============================] - 0s 3ms/step - loss: 0.7010 - accuracy: 0.0000e+00 - val_loss: 0.6754 - val_accuracy: 0.0000e+00\n",
      "Epoch 91/500\n",
      "109/109 [==============================] - 0s 3ms/step - loss: 0.6927 - accuracy: 0.0000e+00 - val_loss: 0.6726 - val_accuracy: 0.0000e+00\n",
      "Epoch 92/500\n",
      "109/109 [==============================] - 0s 3ms/step - loss: 0.6852 - accuracy: 0.0000e+00 - val_loss: 0.6625 - val_accuracy: 0.0000e+00\n",
      "Epoch 93/500\n",
      "109/109 [==============================] - 0s 3ms/step - loss: 0.6785 - accuracy: 0.0000e+00 - val_loss: 0.6531 - val_accuracy: 0.0000e+00\n",
      "Epoch 94/500\n",
      "109/109 [==============================] - 0s 3ms/step - loss: 0.6717 - accuracy: 0.0000e+00 - val_loss: 0.6524 - val_accuracy: 0.0000e+00\n",
      "Epoch 95/500\n",
      "109/109 [==============================] - 0s 3ms/step - loss: 0.6673 - accuracy: 0.0000e+00 - val_loss: 0.6426 - val_accuracy: 0.0000e+00\n",
      "Epoch 96/500\n",
      "109/109 [==============================] - 0s 3ms/step - loss: 0.6629 - accuracy: 0.0000e+00 - val_loss: 0.6382 - val_accuracy: 0.0000e+00\n",
      "Epoch 97/500\n",
      "109/109 [==============================] - 0s 3ms/step - loss: 0.6598 - accuracy: 0.0000e+00 - val_loss: 0.6373 - val_accuracy: 0.0000e+00\n",
      "Epoch 98/500\n",
      "109/109 [==============================] - 0s 3ms/step - loss: 0.6563 - accuracy: 0.0000e+00 - val_loss: 0.6321 - val_accuracy: 0.0000e+00\n",
      "Epoch 99/500\n",
      "109/109 [==============================] - 0s 3ms/step - loss: 0.6540 - accuracy: 0.0000e+00 - val_loss: 0.6295 - val_accuracy: 0.0000e+00\n",
      "Epoch 100/500\n",
      "109/109 [==============================] - 0s 3ms/step - loss: 0.6516 - accuracy: 0.0000e+00 - val_loss: 0.6284 - val_accuracy: 0.0000e+00\n",
      "Epoch 101/500\n",
      "109/109 [==============================] - 0s 3ms/step - loss: 0.6508 - accuracy: 0.0000e+00 - val_loss: 0.6262 - val_accuracy: 0.0000e+00\n",
      "Epoch 102/500\n",
      "109/109 [==============================] - 0s 3ms/step - loss: 0.6484 - accuracy: 0.0000e+00 - val_loss: 0.6242 - val_accuracy: 0.0000e+00\n",
      "Epoch 103/500\n",
      "109/109 [==============================] - 0s 3ms/step - loss: 0.6471 - accuracy: 0.0000e+00 - val_loss: 0.6234 - val_accuracy: 0.0000e+00\n",
      "Epoch 104/500\n",
      "109/109 [==============================] - 0s 3ms/step - loss: 0.6467 - accuracy: 0.0000e+00 - val_loss: 0.6230 - val_accuracy: 0.0000e+00\n",
      "Epoch 105/500\n",
      "109/109 [==============================] - 0s 3ms/step - loss: 0.6458 - accuracy: 0.0000e+00 - val_loss: 0.6216 - val_accuracy: 0.0000e+00\n",
      "Epoch 106/500\n",
      "109/109 [==============================] - 0s 3ms/step - loss: 0.6449 - accuracy: 0.0000e+00 - val_loss: 0.6217 - val_accuracy: 0.0000e+00\n",
      "Epoch 107/500\n",
      "109/109 [==============================] - 0s 3ms/step - loss: 0.6445 - accuracy: 0.0000e+00 - val_loss: 0.6201 - val_accuracy: 0.0000e+00\n",
      "Epoch 108/500\n",
      "109/109 [==============================] - 0s 4ms/step - loss: 0.6432 - accuracy: 0.0000e+00 - val_loss: 0.6195 - val_accuracy: 0.0000e+00\n"
     ]
    },
    {
     "name": "stdout",
     "output_type": "stream",
     "text": [
      "Epoch 109/500\n",
      "109/109 [==============================] - 0s 3ms/step - loss: 0.6433 - accuracy: 0.0000e+00 - val_loss: 0.6196 - val_accuracy: 0.0000e+00\n",
      "Epoch 110/500\n",
      "109/109 [==============================] - 0s 3ms/step - loss: 0.6430 - accuracy: 0.0000e+00 - val_loss: 0.6195 - val_accuracy: 0.0000e+00\n",
      "Epoch 111/500\n",
      "109/109 [==============================] - 0s 3ms/step - loss: 0.6430 - accuracy: 0.0000e+00 - val_loss: 0.6189 - val_accuracy: 0.0000e+00\n",
      "Epoch 112/500\n",
      "109/109 [==============================] - 0s 3ms/step - loss: 0.6424 - accuracy: 0.0000e+00 - val_loss: 0.6193 - val_accuracy: 0.0000e+00\n",
      "Epoch 113/500\n",
      "109/109 [==============================] - 0s 3ms/step - loss: 0.6418 - accuracy: 0.0000e+00 - val_loss: 0.6195 - val_accuracy: 0.0000e+00\n",
      "Epoch 114/500\n",
      "109/109 [==============================] - 0s 3ms/step - loss: 0.6424 - accuracy: 0.0000e+00 - val_loss: 0.6182 - val_accuracy: 0.0000e+00\n",
      "Epoch 115/500\n",
      "109/109 [==============================] - 0s 3ms/step - loss: 0.6415 - accuracy: 0.0000e+00 - val_loss: 0.6181 - val_accuracy: 0.0000e+00\n",
      "Epoch 116/500\n",
      "109/109 [==============================] - 0s 3ms/step - loss: 0.6416 - accuracy: 0.0000e+00 - val_loss: 0.6191 - val_accuracy: 0.0000e+00\n",
      "Epoch 117/500\n",
      "109/109 [==============================] - 0s 3ms/step - loss: 0.6411 - accuracy: 0.0000e+00 - val_loss: 0.6196 - val_accuracy: 0.0000e+00\n",
      "Epoch 118/500\n",
      "109/109 [==============================] - 0s 3ms/step - loss: 0.6410 - accuracy: 0.0000e+00 - val_loss: 0.6190 - val_accuracy: 0.0000e+00\n",
      "Epoch 119/500\n",
      "109/109 [==============================] - 0s 4ms/step - loss: 0.6413 - accuracy: 0.0000e+00 - val_loss: 0.6190 - val_accuracy: 0.0000e+00\n",
      "Epoch 120/500\n",
      "109/109 [==============================] - 0s 3ms/step - loss: 0.6413 - accuracy: 0.0000e+00 - val_loss: 0.6179 - val_accuracy: 0.0000e+00\n",
      "Epoch 121/500\n",
      "109/109 [==============================] - 0s 3ms/step - loss: 0.6403 - accuracy: 0.0000e+00 - val_loss: 0.6186 - val_accuracy: 0.0000e+00\n",
      "Epoch 122/500\n",
      "109/109 [==============================] - 0s 2ms/step - loss: 0.6420 - accuracy: 0.0000e+00 - val_loss: 0.6180 - val_accuracy: 0.0000e+00\n",
      "Epoch 123/500\n",
      "109/109 [==============================] - 0s 3ms/step - loss: 0.6407 - accuracy: 0.0000e+00 - val_loss: 0.6178 - val_accuracy: 0.0000e+00\n",
      "Epoch 124/500\n",
      "109/109 [==============================] - 0s 3ms/step - loss: 0.6405 - accuracy: 0.0000e+00 - val_loss: 0.6177 - val_accuracy: 0.0000e+00\n",
      "Epoch 125/500\n",
      "109/109 [==============================] - 0s 3ms/step - loss: 0.6402 - accuracy: 0.0000e+00 - val_loss: 0.6176 - val_accuracy: 0.0000e+00\n",
      "Epoch 126/500\n",
      "109/109 [==============================] - 0s 3ms/step - loss: 0.6412 - accuracy: 0.0000e+00 - val_loss: 0.6173 - val_accuracy: 0.0000e+00\n",
      "Epoch 127/500\n",
      "109/109 [==============================] - 0s 3ms/step - loss: 0.6401 - accuracy: 0.0000e+00 - val_loss: 0.6215 - val_accuracy: 0.0000e+00\n",
      "Epoch 128/500\n",
      "109/109 [==============================] - 0s 3ms/step - loss: 0.6423 - accuracy: 0.0000e+00 - val_loss: 0.6180 - val_accuracy: 0.0000e+00\n",
      "Epoch 129/500\n",
      "109/109 [==============================] - 0s 3ms/step - loss: 0.6403 - accuracy: 0.0000e+00 - val_loss: 0.6186 - val_accuracy: 0.0000e+00\n",
      "Epoch 130/500\n",
      "109/109 [==============================] - 0s 3ms/step - loss: 0.6400 - accuracy: 0.0000e+00 - val_loss: 0.6174 - val_accuracy: 0.0000e+00\n",
      "Epoch 131/500\n",
      "109/109 [==============================] - 0s 3ms/step - loss: 0.6401 - accuracy: 0.0000e+00 - val_loss: 0.6178 - val_accuracy: 0.0000e+00\n",
      "Epoch 132/500\n",
      "109/109 [==============================] - 0s 3ms/step - loss: 0.6404 - accuracy: 0.0000e+00 - val_loss: 0.6175 - val_accuracy: 0.0000e+00\n",
      "Epoch 133/500\n",
      "109/109 [==============================] - 0s 3ms/step - loss: 0.6402 - accuracy: 0.0000e+00 - val_loss: 0.6190 - val_accuracy: 0.0000e+00\n",
      "Epoch 134/500\n",
      "109/109 [==============================] - 0s 3ms/step - loss: 0.6401 - accuracy: 0.0000e+00 - val_loss: 0.6180 - val_accuracy: 0.0000e+00\n",
      "Epoch 135/500\n",
      "109/109 [==============================] - 0s 3ms/step - loss: 0.6410 - accuracy: 0.0000e+00 - val_loss: 0.6190 - val_accuracy: 0.0000e+00\n",
      "Epoch 136/500\n",
      "109/109 [==============================] - 0s 3ms/step - loss: 0.6408 - accuracy: 0.0000e+00 - val_loss: 0.6177 - val_accuracy: 0.0000e+00\n",
      "Epoch 137/500\n",
      "109/109 [==============================] - 0s 3ms/step - loss: 0.6404 - accuracy: 0.0000e+00 - val_loss: 0.6180 - val_accuracy: 0.0000e+00\n",
      "Epoch 138/500\n",
      "109/109 [==============================] - 0s 3ms/step - loss: 0.6400 - accuracy: 0.0000e+00 - val_loss: 0.6204 - val_accuracy: 0.0000e+00\n",
      "Epoch 139/500\n",
      "109/109 [==============================] - 0s 3ms/step - loss: 0.6395 - accuracy: 0.0000e+00 - val_loss: 0.6172 - val_accuracy: 0.0000e+00\n",
      "Epoch 140/500\n",
      "109/109 [==============================] - 0s 3ms/step - loss: 0.6399 - accuracy: 0.0000e+00 - val_loss: 0.6176 - val_accuracy: 0.0000e+00\n",
      "Epoch 141/500\n",
      "109/109 [==============================] - 0s 3ms/step - loss: 0.6400 - accuracy: 0.0000e+00 - val_loss: 0.6185 - val_accuracy: 0.0000e+00\n",
      "Epoch 142/500\n",
      "109/109 [==============================] - 0s 3ms/step - loss: 0.6395 - accuracy: 0.0000e+00 - val_loss: 0.6177 - val_accuracy: 0.0000e+00\n",
      "Epoch 143/500\n",
      "109/109 [==============================] - 0s 3ms/step - loss: 0.6402 - accuracy: 0.0000e+00 - val_loss: 0.6181 - val_accuracy: 0.0000e+00\n",
      "Epoch 144/500\n",
      "109/109 [==============================] - 0s 3ms/step - loss: 0.6396 - accuracy: 0.0000e+00 - val_loss: 0.6172 - val_accuracy: 0.0000e+00\n",
      "Epoch 145/500\n",
      "109/109 [==============================] - 0s 3ms/step - loss: 0.6396 - accuracy: 0.0000e+00 - val_loss: 0.6172 - val_accuracy: 0.0000e+00\n",
      "Epoch 146/500\n",
      "109/109 [==============================] - 0s 3ms/step - loss: 0.6400 - accuracy: 0.0000e+00 - val_loss: 0.6175 - val_accuracy: 0.0000e+00\n",
      "Epoch 147/500\n",
      "109/109 [==============================] - 0s 3ms/step - loss: 0.6404 - accuracy: 0.0000e+00 - val_loss: 0.6179 - val_accuracy: 0.0000e+00\n",
      "Epoch 148/500\n",
      "109/109 [==============================] - 0s 3ms/step - loss: 0.6403 - accuracy: 0.0000e+00 - val_loss: 0.6175 - val_accuracy: 0.0000e+00\n",
      "Epoch 149/500\n",
      "109/109 [==============================] - 0s 3ms/step - loss: 0.6400 - accuracy: 0.0000e+00 - val_loss: 0.6165 - val_accuracy: 0.0000e+00\n",
      "Epoch 150/500\n",
      "109/109 [==============================] - 0s 3ms/step - loss: 0.6394 - accuracy: 0.0000e+00 - val_loss: 0.6179 - val_accuracy: 0.0000e+00\n",
      "Epoch 151/500\n",
      "109/109 [==============================] - 0s 3ms/step - loss: 0.6395 - accuracy: 0.0000e+00 - val_loss: 0.6174 - val_accuracy: 0.0000e+00\n",
      "Epoch 152/500\n",
      "109/109 [==============================] - 0s 3ms/step - loss: 0.6389 - accuracy: 0.0000e+00 - val_loss: 0.6169 - val_accuracy: 0.0000e+00\n",
      "Epoch 153/500\n",
      "109/109 [==============================] - 0s 3ms/step - loss: 0.6411 - accuracy: 0.0000e+00 - val_loss: 0.6168 - val_accuracy: 0.0000e+00\n",
      "Epoch 154/500\n",
      "109/109 [==============================] - 0s 3ms/step - loss: 0.6397 - accuracy: 0.0000e+00 - val_loss: 0.6174 - val_accuracy: 0.0000e+00\n",
      "Epoch 155/500\n",
      "109/109 [==============================] - 0s 3ms/step - loss: 0.6392 - accuracy: 0.0000e+00 - val_loss: 0.6172 - val_accuracy: 0.0000e+00\n",
      "Epoch 156/500\n",
      "109/109 [==============================] - 0s 3ms/step - loss: 0.6400 - accuracy: 0.0000e+00 - val_loss: 0.6201 - val_accuracy: 0.0000e+00\n",
      "Epoch 157/500\n",
      "109/109 [==============================] - 0s 3ms/step - loss: 0.6400 - accuracy: 0.0000e+00 - val_loss: 0.6170 - val_accuracy: 0.0000e+00\n",
      "Epoch 158/500\n",
      "109/109 [==============================] - 0s 3ms/step - loss: 0.6399 - accuracy: 0.0000e+00 - val_loss: 0.6182 - val_accuracy: 0.0000e+00\n",
      "Epoch 159/500\n",
      "109/109 [==============================] - 0s 3ms/step - loss: 0.6400 - accuracy: 0.0000e+00 - val_loss: 0.6172 - val_accuracy: 0.0000e+00\n",
      "Epoch 160/500\n",
      "109/109 [==============================] - 0s 3ms/step - loss: 0.6393 - accuracy: 0.0000e+00 - val_loss: 0.6171 - val_accuracy: 0.0000e+00\n",
      "Epoch 161/500\n",
      "109/109 [==============================] - 0s 3ms/step - loss: 0.6390 - accuracy: 0.0000e+00 - val_loss: 0.6170 - val_accuracy: 0.0000e+00\n",
      "Epoch 162/500\n"
     ]
    },
    {
     "name": "stdout",
     "output_type": "stream",
     "text": [
      "109/109 [==============================] - 0s 3ms/step - loss: 0.6383 - accuracy: 0.0000e+00 - val_loss: 0.6212 - val_accuracy: 0.0000e+00\n",
      "Epoch 163/500\n",
      "109/109 [==============================] - 0s 3ms/step - loss: 0.6400 - accuracy: 0.0000e+00 - val_loss: 0.6177 - val_accuracy: 0.0000e+00\n",
      "Epoch 164/500\n",
      "109/109 [==============================] - 0s 3ms/step - loss: 0.6389 - accuracy: 0.0000e+00 - val_loss: 0.6166 - val_accuracy: 0.0000e+00\n",
      "Epoch 165/500\n",
      "109/109 [==============================] - 0s 3ms/step - loss: 0.6398 - accuracy: 0.0000e+00 - val_loss: 0.6179 - val_accuracy: 0.0000e+00\n",
      "Epoch 166/500\n",
      "109/109 [==============================] - 0s 4ms/step - loss: 0.6400 - accuracy: 0.0000e+00 - val_loss: 0.6176 - val_accuracy: 0.0000e+00\n",
      "Epoch 167/500\n",
      "109/109 [==============================] - 0s 4ms/step - loss: 0.6394 - accuracy: 0.0000e+00 - val_loss: 0.6171 - val_accuracy: 0.0000e+00\n",
      "Epoch 168/500\n",
      "109/109 [==============================] - 0s 4ms/step - loss: 0.6394 - accuracy: 0.0000e+00 - val_loss: 0.6171 - val_accuracy: 0.0000e+00\n",
      "Epoch 169/500\n",
      "109/109 [==============================] - 0s 3ms/step - loss: 0.6404 - accuracy: 0.0000e+00 - val_loss: 0.6169 - val_accuracy: 0.0000e+00\n",
      "Epoch 170/500\n",
      "109/109 [==============================] - 0s 3ms/step - loss: 0.6397 - accuracy: 0.0000e+00 - val_loss: 0.6180 - val_accuracy: 0.0000e+00\n",
      "Epoch 171/500\n",
      "109/109 [==============================] - 0s 3ms/step - loss: 0.6392 - accuracy: 0.0000e+00 - val_loss: 0.6197 - val_accuracy: 0.0000e+00\n",
      "Epoch 172/500\n",
      "109/109 [==============================] - 0s 3ms/step - loss: 0.6402 - accuracy: 0.0000e+00 - val_loss: 0.6179 - val_accuracy: 0.0000e+00\n",
      "Epoch 173/500\n",
      "109/109 [==============================] - 0s 3ms/step - loss: 0.6389 - accuracy: 0.0000e+00 - val_loss: 0.6167 - val_accuracy: 0.0000e+00\n",
      "Epoch 174/500\n",
      "109/109 [==============================] - 0s 3ms/step - loss: 0.6388 - accuracy: 0.0000e+00 - val_loss: 0.6172 - val_accuracy: 0.0000e+00\n",
      "Epoch 00174: early stopping\n"
     ]
    },
    {
     "data": {
      "text/plain": [
       "<tensorflow.python.keras.callbacks.History at 0x2022e449700>"
      ]
     },
     "execution_count": 64,
     "metadata": {},
     "output_type": "execute_result"
    }
   ],
   "source": [
    "model=regression_model()\n",
    "model.fit(X_train,y_train, validation_data=(X_test,y_test) ,epochs=500, verbose=1,callbacks=[early_stop])"
   ]
  },
  {
   "cell_type": "code",
   "execution_count": 65,
   "id": "954159df",
   "metadata": {},
   "outputs": [
    {
     "data": {
      "text/plain": [
       "array([280872.94], dtype=float32)"
      ]
     },
     "execution_count": 65,
     "metadata": {},
     "output_type": "execute_result"
    }
   ],
   "source": [
    "pred=model.predict(X_test)\n",
    "pred[0]"
   ]
  },
  {
   "cell_type": "code",
   "execution_count": 69,
   "id": "30aaefdc",
   "metadata": {},
   "outputs": [
    {
     "data": {
      "text/plain": [
       "3978    165000\n",
       "Name: selling_price, dtype: int64"
      ]
     },
     "execution_count": 69,
     "metadata": {},
     "output_type": "execute_result"
    }
   ],
   "source": [
    "y_test.head(1)"
   ]
  },
  {
   "cell_type": "code",
   "execution_count": 70,
   "id": "9890cea0",
   "metadata": {},
   "outputs": [
    {
     "ename": "ValueError",
     "evalue": "Classification metrics can't handle a mix of multiclass and continuous targets",
     "output_type": "error",
     "traceback": [
      "\u001b[1;31m---------------------------------------------------------------------------\u001b[0m",
      "\u001b[1;31mValueError\u001b[0m                                Traceback (most recent call last)",
      "\u001b[1;32m~\\AppData\\Local\\Temp/ipykernel_26652/2721008058.py\u001b[0m in \u001b[0;36m<module>\u001b[1;34m\u001b[0m\n\u001b[0;32m      1\u001b[0m \u001b[1;32mfrom\u001b[0m \u001b[0msklearn\u001b[0m\u001b[1;33m.\u001b[0m\u001b[0mmetrics\u001b[0m \u001b[1;32mimport\u001b[0m \u001b[0mclassification_report\u001b[0m\u001b[1;33m\u001b[0m\u001b[1;33m\u001b[0m\u001b[0m\n\u001b[1;32m----> 2\u001b[1;33m \u001b[0mclassification_report\u001b[0m\u001b[1;33m(\u001b[0m\u001b[0my_test\u001b[0m\u001b[1;33m,\u001b[0m\u001b[0mpred\u001b[0m\u001b[1;33m)\u001b[0m\u001b[1;33m\u001b[0m\u001b[1;33m\u001b[0m\u001b[0m\n\u001b[0m",
      "\u001b[1;32m~\\AppData\\Local\\Packages\\PythonSoftwareFoundation.Python.3.9_qbz5n2kfra8p0\\LocalCache\\local-packages\\Python39\\site-packages\\sklearn\\utils\\validation.py\u001b[0m in \u001b[0;36minner_f\u001b[1;34m(*args, **kwargs)\u001b[0m\n\u001b[0;32m     61\u001b[0m             \u001b[0mextra_args\u001b[0m \u001b[1;33m=\u001b[0m \u001b[0mlen\u001b[0m\u001b[1;33m(\u001b[0m\u001b[0margs\u001b[0m\u001b[1;33m)\u001b[0m \u001b[1;33m-\u001b[0m \u001b[0mlen\u001b[0m\u001b[1;33m(\u001b[0m\u001b[0mall_args\u001b[0m\u001b[1;33m)\u001b[0m\u001b[1;33m\u001b[0m\u001b[1;33m\u001b[0m\u001b[0m\n\u001b[0;32m     62\u001b[0m             \u001b[1;32mif\u001b[0m \u001b[0mextra_args\u001b[0m \u001b[1;33m<=\u001b[0m \u001b[1;36m0\u001b[0m\u001b[1;33m:\u001b[0m\u001b[1;33m\u001b[0m\u001b[1;33m\u001b[0m\u001b[0m\n\u001b[1;32m---> 63\u001b[1;33m                 \u001b[1;32mreturn\u001b[0m \u001b[0mf\u001b[0m\u001b[1;33m(\u001b[0m\u001b[1;33m*\u001b[0m\u001b[0margs\u001b[0m\u001b[1;33m,\u001b[0m \u001b[1;33m**\u001b[0m\u001b[0mkwargs\u001b[0m\u001b[1;33m)\u001b[0m\u001b[1;33m\u001b[0m\u001b[1;33m\u001b[0m\u001b[0m\n\u001b[0m\u001b[0;32m     64\u001b[0m \u001b[1;33m\u001b[0m\u001b[0m\n\u001b[0;32m     65\u001b[0m             \u001b[1;31m# extra_args > 0\u001b[0m\u001b[1;33m\u001b[0m\u001b[1;33m\u001b[0m\u001b[1;33m\u001b[0m\u001b[0m\n",
      "\u001b[1;32m~\\AppData\\Local\\Packages\\PythonSoftwareFoundation.Python.3.9_qbz5n2kfra8p0\\LocalCache\\local-packages\\Python39\\site-packages\\sklearn\\metrics\\_classification.py\u001b[0m in \u001b[0;36mclassification_report\u001b[1;34m(y_true, y_pred, labels, target_names, sample_weight, digits, output_dict, zero_division)\u001b[0m\n\u001b[0;32m   1968\u001b[0m     \"\"\"\n\u001b[0;32m   1969\u001b[0m \u001b[1;33m\u001b[0m\u001b[0m\n\u001b[1;32m-> 1970\u001b[1;33m     \u001b[0my_type\u001b[0m\u001b[1;33m,\u001b[0m \u001b[0my_true\u001b[0m\u001b[1;33m,\u001b[0m \u001b[0my_pred\u001b[0m \u001b[1;33m=\u001b[0m \u001b[0m_check_targets\u001b[0m\u001b[1;33m(\u001b[0m\u001b[0my_true\u001b[0m\u001b[1;33m,\u001b[0m \u001b[0my_pred\u001b[0m\u001b[1;33m)\u001b[0m\u001b[1;33m\u001b[0m\u001b[1;33m\u001b[0m\u001b[0m\n\u001b[0m\u001b[0;32m   1971\u001b[0m \u001b[1;33m\u001b[0m\u001b[0m\n\u001b[0;32m   1972\u001b[0m     \u001b[1;32mif\u001b[0m \u001b[0mlabels\u001b[0m \u001b[1;32mis\u001b[0m \u001b[1;32mNone\u001b[0m\u001b[1;33m:\u001b[0m\u001b[1;33m\u001b[0m\u001b[1;33m\u001b[0m\u001b[0m\n",
      "\u001b[1;32m~\\AppData\\Local\\Packages\\PythonSoftwareFoundation.Python.3.9_qbz5n2kfra8p0\\LocalCache\\local-packages\\Python39\\site-packages\\sklearn\\metrics\\_classification.py\u001b[0m in \u001b[0;36m_check_targets\u001b[1;34m(y_true, y_pred)\u001b[0m\n\u001b[0;32m     90\u001b[0m \u001b[1;33m\u001b[0m\u001b[0m\n\u001b[0;32m     91\u001b[0m     \u001b[1;32mif\u001b[0m \u001b[0mlen\u001b[0m\u001b[1;33m(\u001b[0m\u001b[0my_type\u001b[0m\u001b[1;33m)\u001b[0m \u001b[1;33m>\u001b[0m \u001b[1;36m1\u001b[0m\u001b[1;33m:\u001b[0m\u001b[1;33m\u001b[0m\u001b[1;33m\u001b[0m\u001b[0m\n\u001b[1;32m---> 92\u001b[1;33m         raise ValueError(\"Classification metrics can't handle a mix of {0} \"\n\u001b[0m\u001b[0;32m     93\u001b[0m                          \"and {1} targets\".format(type_true, type_pred))\n\u001b[0;32m     94\u001b[0m \u001b[1;33m\u001b[0m\u001b[0m\n",
      "\u001b[1;31mValueError\u001b[0m: Classification metrics can't handle a mix of multiclass and continuous targets"
     ]
    }
   ],
   "source": [
    "from sklearn.metrics import classification_report\n",
    "classification_report(y_test,pred)"
   ]
  }
 ],
 "metadata": {
  "kernelspec": {
   "display_name": "Python 3 (ipykernel)",
   "language": "python",
   "name": "python3"
  },
  "language_info": {
   "codemirror_mode": {
    "name": "ipython",
    "version": 3
   },
   "file_extension": ".py",
   "mimetype": "text/x-python",
   "name": "python",
   "nbconvert_exporter": "python",
   "pygments_lexer": "ipython3",
   "version": "3.9.6"
  }
 },
 "nbformat": 4,
 "nbformat_minor": 5
}
