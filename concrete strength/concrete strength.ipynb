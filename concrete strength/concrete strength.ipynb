{
 "cells": [
  {
   "cell_type": "markdown",
   "id": "a37f5590",
   "metadata": {},
   "source": [
    "# Intro to DL&NN Final Project (A)"
   ]
  },
  {
   "cell_type": "markdown",
   "id": "641abace",
   "metadata": {},
   "source": [
    "Use the Keras library to build a neural network with the following:\n",
    "\n",
    "- One hidden layer of 10 nodes, and a ReLU activation function\n",
    "\n",
    "- Use the adam optimizer and the mean squared error  as the loss function.\n",
    "\n",
    "1. Randomly split the data into a training and test sets by holding 30% of the data for testing. You can use the train_test_splithelper function from Scikit-learn.\n",
    "\n",
    "2. Train the model on the training data using 50 epochs.\n",
    "\n",
    "3. Evaluate the model on the test data and compute the mean squared error between the predicted concrete strength and the actual concrete strength. You can use the mean_squared_error function from Scikit-learn.\n",
    "\n",
    "4. Repeat steps 1 - 3, 50 times, i.e., create a list of 50 mean squared errors.\n",
    "\n",
    "5. Report the mean and the standard deviation of the mean squared errors."
   ]
  },
  {
   "cell_type": "code",
   "execution_count": 1,
   "id": "c69a3f8b",
   "metadata": {},
   "outputs": [],
   "source": [
    "import numpy as np\n",
    "import pandas as pd\n",
    "import matplotlib.pyplot as plt\n",
    "import tensorflow\n",
    "import tensorflow.keras\n",
    "from tensorflow.keras.models import Sequential\n",
    "from tensorflow.keras.layers import Dense\n",
    "from tensorflow.keras.utils import to_categorical\n",
    "%matplotlib inline"
   ]
  },
  {
   "cell_type": "markdown",
   "id": "92f1bb8f",
   "metadata": {},
   "source": [
    "## Reading and Exploring Data"
   ]
  },
  {
   "cell_type": "code",
   "execution_count": 2,
   "id": "fb1cfd16",
   "metadata": {},
   "outputs": [
    {
     "data": {
      "text/html": [
       "<div>\n",
       "<style scoped>\n",
       "    .dataframe tbody tr th:only-of-type {\n",
       "        vertical-align: middle;\n",
       "    }\n",
       "\n",
       "    .dataframe tbody tr th {\n",
       "        vertical-align: top;\n",
       "    }\n",
       "\n",
       "    .dataframe thead th {\n",
       "        text-align: right;\n",
       "    }\n",
       "</style>\n",
       "<table border=\"1\" class=\"dataframe\">\n",
       "  <thead>\n",
       "    <tr style=\"text-align: right;\">\n",
       "      <th></th>\n",
       "      <th>Cement</th>\n",
       "      <th>Blast Furnace Slag</th>\n",
       "      <th>Fly Ash</th>\n",
       "      <th>Water</th>\n",
       "      <th>Superplasticizer</th>\n",
       "      <th>Coarse Aggregate</th>\n",
       "      <th>Fine Aggregate</th>\n",
       "      <th>Age</th>\n",
       "      <th>Strength</th>\n",
       "    </tr>\n",
       "  </thead>\n",
       "  <tbody>\n",
       "    <tr>\n",
       "      <th>0</th>\n",
       "      <td>540.0</td>\n",
       "      <td>0.0</td>\n",
       "      <td>0.0</td>\n",
       "      <td>162.0</td>\n",
       "      <td>2.5</td>\n",
       "      <td>1040.0</td>\n",
       "      <td>676.0</td>\n",
       "      <td>28</td>\n",
       "      <td>79.99</td>\n",
       "    </tr>\n",
       "    <tr>\n",
       "      <th>1</th>\n",
       "      <td>540.0</td>\n",
       "      <td>0.0</td>\n",
       "      <td>0.0</td>\n",
       "      <td>162.0</td>\n",
       "      <td>2.5</td>\n",
       "      <td>1055.0</td>\n",
       "      <td>676.0</td>\n",
       "      <td>28</td>\n",
       "      <td>61.89</td>\n",
       "    </tr>\n",
       "    <tr>\n",
       "      <th>2</th>\n",
       "      <td>332.5</td>\n",
       "      <td>142.5</td>\n",
       "      <td>0.0</td>\n",
       "      <td>228.0</td>\n",
       "      <td>0.0</td>\n",
       "      <td>932.0</td>\n",
       "      <td>594.0</td>\n",
       "      <td>270</td>\n",
       "      <td>40.27</td>\n",
       "    </tr>\n",
       "    <tr>\n",
       "      <th>3</th>\n",
       "      <td>332.5</td>\n",
       "      <td>142.5</td>\n",
       "      <td>0.0</td>\n",
       "      <td>228.0</td>\n",
       "      <td>0.0</td>\n",
       "      <td>932.0</td>\n",
       "      <td>594.0</td>\n",
       "      <td>365</td>\n",
       "      <td>41.05</td>\n",
       "    </tr>\n",
       "  </tbody>\n",
       "</table>\n",
       "</div>"
      ],
      "text/plain": [
       "   Cement  Blast Furnace Slag  Fly Ash  Water  Superplasticizer  \\\n",
       "0   540.0                 0.0      0.0  162.0               2.5   \n",
       "1   540.0                 0.0      0.0  162.0               2.5   \n",
       "2   332.5               142.5      0.0  228.0               0.0   \n",
       "3   332.5               142.5      0.0  228.0               0.0   \n",
       "\n",
       "   Coarse Aggregate  Fine Aggregate  Age  Strength  \n",
       "0            1040.0           676.0   28     79.99  \n",
       "1            1055.0           676.0   28     61.89  \n",
       "2             932.0           594.0  270     40.27  \n",
       "3             932.0           594.0  365     41.05  "
      ]
     },
     "execution_count": 2,
     "metadata": {},
     "output_type": "execute_result"
    }
   ],
   "source": [
    "conc_df=pd.read_csv('concrete_data.csv')\n",
    "conc_df.head(4)"
   ]
  },
  {
   "cell_type": "code",
   "execution_count": 3,
   "id": "ecd59561",
   "metadata": {},
   "outputs": [
    {
     "data": {
      "text/plain": [
       "(1030, 9)"
      ]
     },
     "execution_count": 3,
     "metadata": {},
     "output_type": "execute_result"
    }
   ],
   "source": [
    "conc_df.shape"
   ]
  },
  {
   "cell_type": "code",
   "execution_count": 4,
   "id": "72f93727",
   "metadata": {},
   "outputs": [
    {
     "data": {
      "text/plain": [
       "Cement                0\n",
       "Blast Furnace Slag    0\n",
       "Fly Ash               0\n",
       "Water                 0\n",
       "Superplasticizer      0\n",
       "Coarse Aggregate      0\n",
       "Fine Aggregate        0\n",
       "Age                   0\n",
       "Strength              0\n",
       "dtype: int64"
      ]
     },
     "execution_count": 4,
     "metadata": {},
     "output_type": "execute_result"
    }
   ],
   "source": [
    "conc_df.isna().sum()"
   ]
  },
  {
   "cell_type": "code",
   "execution_count": 5,
   "id": "4fc7a638",
   "metadata": {},
   "outputs": [
    {
     "data": {
      "text/html": [
       "<div>\n",
       "<style scoped>\n",
       "    .dataframe tbody tr th:only-of-type {\n",
       "        vertical-align: middle;\n",
       "    }\n",
       "\n",
       "    .dataframe tbody tr th {\n",
       "        vertical-align: top;\n",
       "    }\n",
       "\n",
       "    .dataframe thead th {\n",
       "        text-align: right;\n",
       "    }\n",
       "</style>\n",
       "<table border=\"1\" class=\"dataframe\">\n",
       "  <thead>\n",
       "    <tr style=\"text-align: right;\">\n",
       "      <th></th>\n",
       "      <th>count</th>\n",
       "      <th>mean</th>\n",
       "      <th>std</th>\n",
       "      <th>min</th>\n",
       "      <th>25%</th>\n",
       "      <th>50%</th>\n",
       "      <th>75%</th>\n",
       "      <th>max</th>\n",
       "    </tr>\n",
       "  </thead>\n",
       "  <tbody>\n",
       "    <tr>\n",
       "      <th>Cement</th>\n",
       "      <td>1030.0</td>\n",
       "      <td>281.167864</td>\n",
       "      <td>104.506364</td>\n",
       "      <td>102.00</td>\n",
       "      <td>192.375</td>\n",
       "      <td>272.900</td>\n",
       "      <td>350.000</td>\n",
       "      <td>540.0</td>\n",
       "    </tr>\n",
       "    <tr>\n",
       "      <th>Blast Furnace Slag</th>\n",
       "      <td>1030.0</td>\n",
       "      <td>73.895825</td>\n",
       "      <td>86.279342</td>\n",
       "      <td>0.00</td>\n",
       "      <td>0.000</td>\n",
       "      <td>22.000</td>\n",
       "      <td>142.950</td>\n",
       "      <td>359.4</td>\n",
       "    </tr>\n",
       "    <tr>\n",
       "      <th>Fly Ash</th>\n",
       "      <td>1030.0</td>\n",
       "      <td>54.188350</td>\n",
       "      <td>63.997004</td>\n",
       "      <td>0.00</td>\n",
       "      <td>0.000</td>\n",
       "      <td>0.000</td>\n",
       "      <td>118.300</td>\n",
       "      <td>200.1</td>\n",
       "    </tr>\n",
       "    <tr>\n",
       "      <th>Water</th>\n",
       "      <td>1030.0</td>\n",
       "      <td>181.567282</td>\n",
       "      <td>21.354219</td>\n",
       "      <td>121.80</td>\n",
       "      <td>164.900</td>\n",
       "      <td>185.000</td>\n",
       "      <td>192.000</td>\n",
       "      <td>247.0</td>\n",
       "    </tr>\n",
       "    <tr>\n",
       "      <th>Superplasticizer</th>\n",
       "      <td>1030.0</td>\n",
       "      <td>6.204660</td>\n",
       "      <td>5.973841</td>\n",
       "      <td>0.00</td>\n",
       "      <td>0.000</td>\n",
       "      <td>6.400</td>\n",
       "      <td>10.200</td>\n",
       "      <td>32.2</td>\n",
       "    </tr>\n",
       "    <tr>\n",
       "      <th>Coarse Aggregate</th>\n",
       "      <td>1030.0</td>\n",
       "      <td>972.918932</td>\n",
       "      <td>77.753954</td>\n",
       "      <td>801.00</td>\n",
       "      <td>932.000</td>\n",
       "      <td>968.000</td>\n",
       "      <td>1029.400</td>\n",
       "      <td>1145.0</td>\n",
       "    </tr>\n",
       "    <tr>\n",
       "      <th>Fine Aggregate</th>\n",
       "      <td>1030.0</td>\n",
       "      <td>773.580485</td>\n",
       "      <td>80.175980</td>\n",
       "      <td>594.00</td>\n",
       "      <td>730.950</td>\n",
       "      <td>779.500</td>\n",
       "      <td>824.000</td>\n",
       "      <td>992.6</td>\n",
       "    </tr>\n",
       "    <tr>\n",
       "      <th>Age</th>\n",
       "      <td>1030.0</td>\n",
       "      <td>45.662136</td>\n",
       "      <td>63.169912</td>\n",
       "      <td>1.00</td>\n",
       "      <td>7.000</td>\n",
       "      <td>28.000</td>\n",
       "      <td>56.000</td>\n",
       "      <td>365.0</td>\n",
       "    </tr>\n",
       "    <tr>\n",
       "      <th>Strength</th>\n",
       "      <td>1030.0</td>\n",
       "      <td>35.817961</td>\n",
       "      <td>16.705742</td>\n",
       "      <td>2.33</td>\n",
       "      <td>23.710</td>\n",
       "      <td>34.445</td>\n",
       "      <td>46.135</td>\n",
       "      <td>82.6</td>\n",
       "    </tr>\n",
       "  </tbody>\n",
       "</table>\n",
       "</div>"
      ],
      "text/plain": [
       "                     count        mean         std     min      25%      50%  \\\n",
       "Cement              1030.0  281.167864  104.506364  102.00  192.375  272.900   \n",
       "Blast Furnace Slag  1030.0   73.895825   86.279342    0.00    0.000   22.000   \n",
       "Fly Ash             1030.0   54.188350   63.997004    0.00    0.000    0.000   \n",
       "Water               1030.0  181.567282   21.354219  121.80  164.900  185.000   \n",
       "Superplasticizer    1030.0    6.204660    5.973841    0.00    0.000    6.400   \n",
       "Coarse Aggregate    1030.0  972.918932   77.753954  801.00  932.000  968.000   \n",
       "Fine Aggregate      1030.0  773.580485   80.175980  594.00  730.950  779.500   \n",
       "Age                 1030.0   45.662136   63.169912    1.00    7.000   28.000   \n",
       "Strength            1030.0   35.817961   16.705742    2.33   23.710   34.445   \n",
       "\n",
       "                         75%     max  \n",
       "Cement               350.000   540.0  \n",
       "Blast Furnace Slag   142.950   359.4  \n",
       "Fly Ash              118.300   200.1  \n",
       "Water                192.000   247.0  \n",
       "Superplasticizer      10.200    32.2  \n",
       "Coarse Aggregate    1029.400  1145.0  \n",
       "Fine Aggregate       824.000   992.6  \n",
       "Age                   56.000   365.0  \n",
       "Strength              46.135    82.6  "
      ]
     },
     "execution_count": 5,
     "metadata": {},
     "output_type": "execute_result"
    }
   ],
   "source": [
    "conc_df.describe().transpose()"
   ]
  },
  {
   "cell_type": "code",
   "execution_count": 6,
   "id": "b5f6bed9",
   "metadata": {},
   "outputs": [
    {
     "data": {
      "text/plain": [
       "Index(['Cement', 'Blast Furnace Slag', 'Fly Ash', 'Water', 'Superplasticizer',\n",
       "       'Coarse Aggregate', 'Fine Aggregate', 'Age', 'Strength'],\n",
       "      dtype='object')"
      ]
     },
     "execution_count": 6,
     "metadata": {},
     "output_type": "execute_result"
    }
   ],
   "source": [
    "conc_df.columns"
   ]
  },
  {
   "cell_type": "code",
   "execution_count": 7,
   "id": "6ec4017b",
   "metadata": {},
   "outputs": [],
   "source": [
    "conc_df_columns=conc_df.columns\n",
    "predictors=conc_df[conc_df_columns[conc_df_columns!='Strength']]\n",
    "target=conc_df['Strength']"
   ]
  },
  {
   "cell_type": "code",
   "execution_count": 8,
   "id": "17de744f",
   "metadata": {},
   "outputs": [
    {
     "data": {
      "text/html": [
       "<div>\n",
       "<style scoped>\n",
       "    .dataframe tbody tr th:only-of-type {\n",
       "        vertical-align: middle;\n",
       "    }\n",
       "\n",
       "    .dataframe tbody tr th {\n",
       "        vertical-align: top;\n",
       "    }\n",
       "\n",
       "    .dataframe thead th {\n",
       "        text-align: right;\n",
       "    }\n",
       "</style>\n",
       "<table border=\"1\" class=\"dataframe\">\n",
       "  <thead>\n",
       "    <tr style=\"text-align: right;\">\n",
       "      <th></th>\n",
       "      <th>Cement</th>\n",
       "      <th>Blast Furnace Slag</th>\n",
       "      <th>Fly Ash</th>\n",
       "      <th>Water</th>\n",
       "      <th>Superplasticizer</th>\n",
       "      <th>Coarse Aggregate</th>\n",
       "      <th>Fine Aggregate</th>\n",
       "      <th>Age</th>\n",
       "    </tr>\n",
       "  </thead>\n",
       "  <tbody>\n",
       "    <tr>\n",
       "      <th>0</th>\n",
       "      <td>540.0</td>\n",
       "      <td>0.0</td>\n",
       "      <td>0.0</td>\n",
       "      <td>162.0</td>\n",
       "      <td>2.5</td>\n",
       "      <td>1040.0</td>\n",
       "      <td>676.0</td>\n",
       "      <td>28</td>\n",
       "    </tr>\n",
       "    <tr>\n",
       "      <th>1</th>\n",
       "      <td>540.0</td>\n",
       "      <td>0.0</td>\n",
       "      <td>0.0</td>\n",
       "      <td>162.0</td>\n",
       "      <td>2.5</td>\n",
       "      <td>1055.0</td>\n",
       "      <td>676.0</td>\n",
       "      <td>28</td>\n",
       "    </tr>\n",
       "    <tr>\n",
       "      <th>2</th>\n",
       "      <td>332.5</td>\n",
       "      <td>142.5</td>\n",
       "      <td>0.0</td>\n",
       "      <td>228.0</td>\n",
       "      <td>0.0</td>\n",
       "      <td>932.0</td>\n",
       "      <td>594.0</td>\n",
       "      <td>270</td>\n",
       "    </tr>\n",
       "    <tr>\n",
       "      <th>3</th>\n",
       "      <td>332.5</td>\n",
       "      <td>142.5</td>\n",
       "      <td>0.0</td>\n",
       "      <td>228.0</td>\n",
       "      <td>0.0</td>\n",
       "      <td>932.0</td>\n",
       "      <td>594.0</td>\n",
       "      <td>365</td>\n",
       "    </tr>\n",
       "    <tr>\n",
       "      <th>4</th>\n",
       "      <td>198.6</td>\n",
       "      <td>132.4</td>\n",
       "      <td>0.0</td>\n",
       "      <td>192.0</td>\n",
       "      <td>0.0</td>\n",
       "      <td>978.4</td>\n",
       "      <td>825.5</td>\n",
       "      <td>360</td>\n",
       "    </tr>\n",
       "  </tbody>\n",
       "</table>\n",
       "</div>"
      ],
      "text/plain": [
       "   Cement  Blast Furnace Slag  Fly Ash  Water  Superplasticizer  \\\n",
       "0   540.0                 0.0      0.0  162.0               2.5   \n",
       "1   540.0                 0.0      0.0  162.0               2.5   \n",
       "2   332.5               142.5      0.0  228.0               0.0   \n",
       "3   332.5               142.5      0.0  228.0               0.0   \n",
       "4   198.6               132.4      0.0  192.0               0.0   \n",
       "\n",
       "   Coarse Aggregate  Fine Aggregate  Age  \n",
       "0            1040.0           676.0   28  \n",
       "1            1055.0           676.0   28  \n",
       "2             932.0           594.0  270  \n",
       "3             932.0           594.0  365  \n",
       "4             978.4           825.5  360  "
      ]
     },
     "execution_count": 8,
     "metadata": {},
     "output_type": "execute_result"
    }
   ],
   "source": [
    "predictors.head()"
   ]
  },
  {
   "cell_type": "code",
   "execution_count": 9,
   "id": "8c77422c",
   "metadata": {},
   "outputs": [
    {
     "data": {
      "text/plain": [
       "0    79.99\n",
       "1    61.89\n",
       "2    40.27\n",
       "3    41.05\n",
       "4    44.30\n",
       "Name: Strength, dtype: float64"
      ]
     },
     "execution_count": 9,
     "metadata": {},
     "output_type": "execute_result"
    }
   ],
   "source": [
    "target.head()"
   ]
  },
  {
   "cell_type": "code",
   "execution_count": 10,
   "id": "5c56de74",
   "metadata": {},
   "outputs": [
    {
     "data": {
      "text/plain": [
       "8"
      ]
     },
     "execution_count": 10,
     "metadata": {},
     "output_type": "execute_result"
    }
   ],
   "source": [
    "n_cols=predictors.shape[1]\n",
    "n_cols"
   ]
  },
  {
   "cell_type": "markdown",
   "id": "a9563bfa",
   "metadata": {},
   "source": [
    "## Modelling"
   ]
  },
  {
   "cell_type": "code",
   "execution_count": 11,
   "id": "d67ff4e5",
   "metadata": {},
   "outputs": [],
   "source": [
    "def regression_model():\n",
    "    model=Sequential()\n",
    "    model.add(Dense(10,activation='relu',input_shape=(n_cols,)))\n",
    "    model.add(Dense(1))\n",
    "    model.compile(optimizer='adam',loss='mean_squared_error')\n",
    "    \n",
    "    return model"
   ]
  },
  {
   "cell_type": "code",
   "execution_count": 12,
   "id": "01a9f620",
   "metadata": {},
   "outputs": [],
   "source": [
    "model=regression_model()"
   ]
  },
  {
   "cell_type": "markdown",
   "id": "7e244998",
   "metadata": {},
   "source": [
    "## Train Test Split"
   ]
  },
  {
   "cell_type": "code",
   "execution_count": 27,
   "id": "d2690195",
   "metadata": {},
   "outputs": [
    {
     "name": "stdout",
     "output_type": "stream",
     "text": [
      "Train Set Shapes - X : (721, 8) y : (721,)\n",
      "Test Set Shapes - X : (309, 8) y : (309,)\n"
     ]
    }
   ],
   "source": [
    "from sklearn.model_selection import train_test_split\n",
    "X_train,X_test,y_train,y_test=train_test_split(predictors,target,test_size=0.3,random_state=80)\n",
    "print(f'Train Set Shapes - X : {X_train.shape} y : {y_train.shape}')\n",
    "print(f'Test Set Shapes - X : {X_test.shape} y : {y_test.shape}')"
   ]
  },
  {
   "cell_type": "code",
   "execution_count": 28,
   "id": "d8ea0bbe",
   "metadata": {},
   "outputs": [
    {
     "name": "stdout",
     "output_type": "stream",
     "text": [
      "Epoch 1/50\n",
      "23/23 [==============================] - 0s 2ms/step - loss: 111.3017\n",
      "Epoch 2/50\n",
      "23/23 [==============================] - 0s 2ms/step - loss: 116.4764\n",
      "Epoch 3/50\n",
      "23/23 [==============================] - 0s 2ms/step - loss: 116.6002\n",
      "Epoch 4/50\n",
      "23/23 [==============================] - 0s 3ms/step - loss: 114.7674\n",
      "Epoch 5/50\n",
      "23/23 [==============================] - 0s 2ms/step - loss: 116.4271\n",
      "Epoch 6/50\n",
      "23/23 [==============================] - 0s 2ms/step - loss: 115.3392\n",
      "Epoch 7/50\n",
      "23/23 [==============================] - 0s 2ms/step - loss: 113.9846\n",
      "Epoch 8/50\n",
      "23/23 [==============================] - 0s 2ms/step - loss: 112.1611\n",
      "Epoch 9/50\n",
      "23/23 [==============================] - 0s 2ms/step - loss: 115.1283\n",
      "Epoch 10/50\n",
      "23/23 [==============================] - 0s 2ms/step - loss: 117.9246\n",
      "Epoch 11/50\n",
      "23/23 [==============================] - 0s 2ms/step - loss: 116.9805\n",
      "Epoch 12/50\n",
      "23/23 [==============================] - 0s 2ms/step - loss: 112.2122\n",
      "Epoch 13/50\n",
      "23/23 [==============================] - 0s 2ms/step - loss: 113.3620\n",
      "Epoch 14/50\n",
      "23/23 [==============================] - 0s 2ms/step - loss: 114.0195\n",
      "Epoch 15/50\n",
      "23/23 [==============================] - 0s 2ms/step - loss: 116.8534\n",
      "Epoch 16/50\n",
      "23/23 [==============================] - 0s 2ms/step - loss: 117.0711\n",
      "Epoch 17/50\n",
      "23/23 [==============================] - 0s 2ms/step - loss: 114.9683\n",
      "Epoch 18/50\n",
      "23/23 [==============================] - 0s 2ms/step - loss: 112.0466\n",
      "Epoch 19/50\n",
      "23/23 [==============================] - 0s 2ms/step - loss: 115.1468\n",
      "Epoch 20/50\n",
      "23/23 [==============================] - 0s 2ms/step - loss: 113.8446\n",
      "Epoch 21/50\n",
      "23/23 [==============================] - 0s 2ms/step - loss: 112.1122\n",
      "Epoch 22/50\n",
      "23/23 [==============================] - 0s 2ms/step - loss: 112.4845\n",
      "Epoch 23/50\n",
      "23/23 [==============================] - 0s 2ms/step - loss: 114.5126\n",
      "Epoch 24/50\n",
      "23/23 [==============================] - 0s 2ms/step - loss: 112.2156\n",
      "Epoch 25/50\n",
      "23/23 [==============================] - 0s 2ms/step - loss: 110.9294\n",
      "Epoch 26/50\n",
      "23/23 [==============================] - 0s 2ms/step - loss: 111.3765\n",
      "Epoch 27/50\n",
      "23/23 [==============================] - 0s 2ms/step - loss: 110.0811\n",
      "Epoch 28/50\n",
      "23/23 [==============================] - 0s 2ms/step - loss: 119.0381\n",
      "Epoch 29/50\n",
      "23/23 [==============================] - 0s 2ms/step - loss: 110.9689\n",
      "Epoch 30/50\n",
      "23/23 [==============================] - 0s 2ms/step - loss: 119.8833\n",
      "Epoch 31/50\n",
      "23/23 [==============================] - 0s 2ms/step - loss: 115.6221\n",
      "Epoch 32/50\n",
      "23/23 [==============================] - 0s 2ms/step - loss: 115.7721\n",
      "Epoch 33/50\n",
      "23/23 [==============================] - 0s 2ms/step - loss: 111.4251\n",
      "Epoch 34/50\n",
      "23/23 [==============================] - 0s 2ms/step - loss: 111.6292\n",
      "Epoch 35/50\n",
      "23/23 [==============================] - 0s 2ms/step - loss: 111.8753\n",
      "Epoch 36/50\n",
      "23/23 [==============================] - 0s 2ms/step - loss: 111.8139\n",
      "Epoch 37/50\n",
      "23/23 [==============================] - 0s 2ms/step - loss: 111.1821\n",
      "Epoch 38/50\n",
      "23/23 [==============================] - 0s 2ms/step - loss: 117.1412\n",
      "Epoch 39/50\n",
      "23/23 [==============================] - 0s 2ms/step - loss: 110.9915\n",
      "Epoch 40/50\n",
      "23/23 [==============================] - 0s 2ms/step - loss: 111.3964\n",
      "Epoch 41/50\n",
      "23/23 [==============================] - 0s 2ms/step - loss: 118.1420\n",
      "Epoch 42/50\n",
      "23/23 [==============================] - 0s 2ms/step - loss: 114.8172\n",
      "Epoch 43/50\n",
      "23/23 [==============================] - 0s 2ms/step - loss: 111.0642\n",
      "Epoch 44/50\n",
      "23/23 [==============================] - 0s 2ms/step - loss: 114.0733\n",
      "Epoch 45/50\n",
      "23/23 [==============================] - 0s 2ms/step - loss: 112.1986\n",
      "Epoch 46/50\n",
      "23/23 [==============================] - 0s 2ms/step - loss: 111.5593\n",
      "Epoch 47/50\n",
      "23/23 [==============================] - 0s 2ms/step - loss: 118.0927\n",
      "Epoch 48/50\n",
      "23/23 [==============================] - 0s 2ms/step - loss: 111.2545\n",
      "Epoch 49/50\n",
      "23/23 [==============================] - 0s 2ms/step - loss: 113.8382\n",
      "Epoch 50/50\n",
      "23/23 [==============================] - 0s 2ms/step - loss: 122.6732\n"
     ]
    },
    {
     "data": {
      "text/plain": [
       "<tensorflow.python.keras.callbacks.History at 0x1b0f5fb3280>"
      ]
     },
     "execution_count": 28,
     "metadata": {},
     "output_type": "execute_result"
    }
   ],
   "source": [
    "epochs=50\n",
    "model.fit(X_train,y_train,epochs=epochs,verbose=1)"
   ]
  },
  {
   "cell_type": "code",
   "execution_count": 29,
   "id": "39ea01d1",
   "metadata": {},
   "outputs": [
    {
     "name": "stdout",
     "output_type": "stream",
     "text": [
      "10/10 [==============================] - 0s 2ms/step - loss: 103.9935\n"
     ]
    },
    {
     "data": {
      "text/plain": [
       "103.99345397949219"
      ]
     },
     "execution_count": 29,
     "metadata": {},
     "output_type": "execute_result"
    }
   ],
   "source": [
    "loss=model.evaluate(X_test,y_test)\n",
    "y_pred=model.predict(X_test)\n",
    "loss"
   ]
  },
  {
   "cell_type": "code",
   "execution_count": 30,
   "id": "094fb7ae",
   "metadata": {},
   "outputs": [
    {
     "name": "stdout",
     "output_type": "stream",
     "text": [
      "103.99343380476337 0.0\n"
     ]
    }
   ],
   "source": [
    "from sklearn.metrics import mean_squared_error\n",
    "\n",
    "mse=mean_squared_error(y_test,y_pred)\n",
    "mean=np.mean(mse)\n",
    "std_dev=np.std(mse)\n",
    "print(mean,std_dev)"
   ]
  },
  {
   "cell_type": "markdown",
   "id": "c539c90f",
   "metadata": {},
   "source": [
    "## 50 MSE"
   ]
  },
  {
   "cell_type": "code",
   "execution_count": 35,
   "id": "ba8c993c",
   "metadata": {},
   "outputs": [
    {
     "name": "stdout",
     "output_type": "stream",
     "text": [
      "MSE 1 : 94.48351287841797\n",
      "MSE 2 : 126.07400512695312\n",
      "MSE 3 : 109.57637786865234\n",
      "MSE 4 : 122.18971252441406\n",
      "MSE 5 : 122.3802490234375\n",
      "MSE 6 : 108.4609603881836\n",
      "MSE 7 : 135.21310424804688\n",
      "MSE 8 : 106.96836853027344\n",
      "MSE 9 : 136.3834991455078\n",
      "MSE 10 : 119.80699157714844\n",
      "MSE 11 : 104.04444885253906\n",
      "MSE 12 : 100.41139221191406\n",
      "MSE 13 : 115.05136108398438\n",
      "MSE 14 : 115.62496185302734\n",
      "MSE 15 : 108.8838119506836\n",
      "MSE 16 : 108.71155548095703\n",
      "MSE 17 : 104.7904281616211\n",
      "MSE 18 : 97.59019470214844\n",
      "MSE 19 : 94.40612030029297\n",
      "MSE 20 : 114.09965515136719\n",
      "MSE 21 : 100.75159454345703\n",
      "MSE 22 : 100.71129608154297\n",
      "MSE 23 : 47.595951080322266\n",
      "MSE 24 : 49.2398567199707\n",
      "MSE 25 : 52.15057373046875\n",
      "MSE 26 : 54.96613311767578\n",
      "MSE 27 : 50.24462890625\n",
      "MSE 28 : 44.966529846191406\n",
      "MSE 29 : 53.97052001953125\n",
      "MSE 30 : 49.656105041503906\n",
      "MSE 31 : 53.41554641723633\n",
      "MSE 32 : 42.70719909667969\n",
      "MSE 33 : 55.58005142211914\n",
      "MSE 34 : 49.82334518432617\n",
      "MSE 35 : 55.228023529052734\n",
      "MSE 36 : 53.84105682373047\n",
      "MSE 37 : 52.75980758666992\n",
      "MSE 38 : 52.975032806396484\n",
      "MSE 39 : 59.69484329223633\n",
      "MSE 40 : 50.44512176513672\n",
      "MSE 41 : 55.35917282104492\n",
      "MSE 42 : 45.081321716308594\n",
      "MSE 43 : 47.68706512451172\n",
      "MSE 44 : 55.70751190185547\n",
      "MSE 45 : 58.36353302001953\n",
      "MSE 46 : 53.88134002685547\n",
      "MSE 47 : 51.958003997802734\n",
      "MSE 48 : 62.61709213256836\n",
      "MSE 49 : 50.78315734863281\n",
      "MSE 50 : 58.09245300292969\n"
     ]
    }
   ],
   "source": [
    "total_mse=50\n",
    "epochs=50\n",
    "mse=[]\n",
    "\n",
    "for i in range (0,total_mse):\n",
    "    X_train,X_test,y_train,y_test=train_test_split(predictors,target,test_size=0.3,random_state=i)\n",
    "    model.fit(X_train,y_train,epochs=epochs,verbose=0)\n",
    "    MSE=model.evaluate(X_test,y_test,verbose=0)\n",
    "    print(f'MSE {str(i+1)} : {str(MSE)}')\n",
    "    y_pred = model.predict(X_test)\n",
    "    mean_square_error = mean_squared_error(y_test, y_pred)\n",
    "    mse.append(mean_square_error)"
   ]
  },
  {
   "cell_type": "code",
   "execution_count": 36,
   "id": "8132dd02",
   "metadata": {},
   "outputs": [],
   "source": [
    "mean_squared_errors = np.array(mse)\n",
    "mean = np.mean(mean_squared_errors)\n",
    "standard_deviation = np.std(mean_squared_errors)"
   ]
  },
  {
   "cell_type": "code",
   "execution_count": 41,
   "id": "caeddfcf",
   "metadata": {},
   "outputs": [
    {
     "name": "stdout",
     "output_type": "stream",
     "text": [
      "The mean and standard deviation of 50 MSE without normalized data. Total number of epochs for each training is: 50\n",
      "\n",
      "Mean: 78.3080944950562\n",
      "Standard Deviation: 30.363794584425648\n"
     ]
    }
   ],
   "source": [
    "print(f\"The mean and standard deviation of {str(total_mse)} MSE without normalized data. Total number of epochs for each training is: {str(epochs)}\\n\")\n",
    "print(f\"Mean: {str(mean)}\")\n",
    "print(f\"Standard Deviation: {str(standard_deviation)}\")"
   ]
  }
 ],
 "metadata": {
  "kernelspec": {
   "display_name": "Python 3 (ipykernel)",
   "language": "python",
   "name": "python3"
  },
  "language_info": {
   "codemirror_mode": {
    "name": "ipython",
    "version": 3
   },
   "file_extension": ".py",
   "mimetype": "text/x-python",
   "name": "python",
   "nbconvert_exporter": "python",
   "pygments_lexer": "ipython3",
   "version": "3.9.6"
  }
 },
 "nbformat": 4,
 "nbformat_minor": 5
}
